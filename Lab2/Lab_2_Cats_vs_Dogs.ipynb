{
  "nbformat": 4,
  "nbformat_minor": 0,
  "metadata": {
    "kernelspec": {
      "display_name": "Python 3",
      "language": "python",
      "name": "python3"
    },
    "language_info": {
      "codemirror_mode": {
        "name": "ipython",
        "version": 3
      },
      "file_extension": ".py",
      "mimetype": "text/x-python",
      "name": "python",
      "nbconvert_exporter": "python",
      "pygments_lexer": "ipython3",
      "version": "3.6.7"
    },
    "colab": {
      "name": "Lab 2 - Cats vs Dogs.ipynb",
      "provenance": [],
      "collapsed_sections": [
        "f1uGdKUIqIE1",
        "5APYluUoqIE4",
        "GMb-NLitqIE7",
        "DwvN15IzqIE-",
        "fTLRs2f7qIFD",
        "ZsO4z7JJqIFF",
        "VrMyc5QnqIFI",
        "Xxje12xKqIFN",
        "S0GE8Z5kqIFU"
      ],
      "include_colab_link": true
    }
  },
  "cells": [
    {
      "cell_type": "markdown",
      "metadata": {
        "id": "view-in-github",
        "colab_type": "text"
      },
      "source": [
        "<a href=\"https://colab.research.google.com/github/Navash914/APS360_ArtificialIntelligenceFundamentals/blob/master/Lab2/Lab_2_Cats_vs_Dogs.ipynb\" target=\"_parent\"><img src=\"https://colab.research.google.com/assets/colab-badge.svg\" alt=\"Open In Colab\"/></a>"
      ]
    },
    {
      "cell_type": "markdown",
      "metadata": {
        "id": "X6WDvajSqIDs",
        "colab_type": "text"
      },
      "source": [
        "# Lab 2: Cats vs Dogs\n",
        "\n",
        "**Deadline**: January 30, 11:59pm\n",
        "\n",
        "**Late Penalty**: There is a penalty-free grace period of one hour past the deadline. Any work that is submitted between 1 hour and 24 hours past the deadline will receive a 20% grade deduction. No other late work is accepted. Quercus submission time will be used, not your local computer time. You can submit your labs as many times as you want before the deadline, so please submit often and early.\n",
        "\n",
        "**Marking TA**: Tinglin (Francis) Duan\n",
        "\n",
        "This lab is partially based on an assignment developed by Prof. Jonathan Rose and Harris Chan.\n",
        "\n",
        "In this lab, you will train a convolutional neural network to classify an image \n",
        "into one of two classes: \"cat\" or \"dog\". The code for the neural networks \n",
        "you train will be written for you, and you are not (yet!) expected\n",
        "to understand all provided code. However, by the end of the lab,\n",
        "you should be able to:\n",
        "\n",
        "1. Understand at a high level the training loop for a machine learning model.\n",
        "2. Understand the distinction between training, validation, and test data.\n",
        "3. The concepts of overfitting and underfitting.\n",
        "4. Investigate how different hyperparameters, such as learning rate and batch size, affect the success of training.\n",
        "5. Compare an ANN (aka Multi-Layer Perceptron) with a CNN.\n",
        "\n",
        "### What to submit\n",
        "\n",
        "Submit a PDF file containing all your code, outputs, and write-up\n",
        "from parts 1-5. You can produce a PDF of your Google Colab file by\n",
        "going to **File > Print** and then save as PDF. The Colab instructions\n",
        "has more information.\n",
        "\n",
        "**Do not submit any other files produced by your code.**\n",
        "\n",
        "Include a link to your colab file in your submission.\n",
        "\n",
        "Please use Google Colab to complete this assignment. If you want to use Jupyter Notebook, please complete the assignment and upload your Jupyter Notebook file to Google Colab for submission. \n",
        "\n",
        "With Colab, you can export a PDF file using the menu option\n",
        "`File -> Print` and save as PDF file. **Adjust the scaling to ensure that the text is not cutoff at the margins.**"
      ]
    },
    {
      "cell_type": "markdown",
      "metadata": {
        "id": "LfiFE_WOqIDu",
        "colab_type": "text"
      },
      "source": [
        "## Colab Link\n",
        "\n",
        "Include a link to your colab file here\n",
        "\n",
        "Colab Link: "
      ]
    },
    {
      "cell_type": "code",
      "metadata": {
        "id": "SwyDuiuUqIDv",
        "colab_type": "code",
        "colab": {}
      },
      "source": [
        "import numpy as np\n",
        "import time\n",
        "import torch\n",
        "import torch.nn as nn\n",
        "import torch.nn.functional as F\n",
        "import torch.optim as optim\n",
        "import torchvision\n",
        "from torch.utils.data.sampler import SubsetRandomSampler\n",
        "import torchvision.transforms as transforms\n"
      ],
      "execution_count": 0,
      "outputs": []
    },
    {
      "cell_type": "markdown",
      "metadata": {
        "id": "kvTXpH_kqIDy",
        "colab_type": "text"
      },
      "source": [
        "## Part 0. Helper Functions\n",
        "\n",
        "We will be making use of the following helper functions. You will be asked to look\n",
        "at and possibly modify some of these, but you are not expected to understand all of them.\n",
        "\n",
        "You should look at the function names and read the docstrings. If you are curious, come back and explore the code *after* making some progress on the lab."
      ]
    },
    {
      "cell_type": "code",
      "metadata": {
        "id": "wEjwWEkoqIDz",
        "colab_type": "code",
        "colab": {}
      },
      "source": [
        "###############################################################################\n",
        "# Data Loading\n",
        "\n",
        "def get_relevant_indices(dataset, classes, target_classes):\n",
        "    \"\"\" Return the indices for datapoints in the dataset that belongs to the\n",
        "    desired target classes, a subset of all possible classes.\n",
        "\n",
        "    Args:\n",
        "        dataset: Dataset object\n",
        "        classes: A list of strings denoting the name of each class\n",
        "        target_classes: A list of strings denoting the name of desired classes\n",
        "                        Should be a subset of the 'classes'\n",
        "    Returns:\n",
        "        indices: list of indices that have labels corresponding to one of the\n",
        "                 target classes\n",
        "    \"\"\"\n",
        "    indices = []\n",
        "    for i in range(len(dataset)):\n",
        "        # Check if the label is in the target classes\n",
        "        label_index = dataset[i][1] # ex: 3\n",
        "        label_class = classes[label_index] # ex: 'cat'\n",
        "        if label_class in target_classes:\n",
        "            indices.append(i)\n",
        "    return indices\n",
        "\n",
        "def get_data_loader(target_classes, batch_size):\n",
        "    \"\"\" Returns the indices for datapoints in the dataset that\n",
        "    belongs to the desired target classes, a subset of all possible classes.\n",
        "\n",
        "    Args:\n",
        "        dataset: Dataset object\n",
        "        classes: A list of strings denoting the name of each class\n",
        "        target_classes: A list of strings denoting the name of the desired\n",
        "                        classes. Should be a subset of the argument 'classes'\n",
        "    Returns:\n",
        "        indices: list of indices that have labels corresponding to one of the\n",
        "                 target classes\n",
        "    \"\"\"\n",
        "    classes = ('plane', 'car', 'bird', 'cat',\n",
        "               'deer', 'dog', 'frog', 'horse', 'ship', 'truck')\n",
        "    ########################################################################\n",
        "    # The output of torchvision datasets are PILImage images of range [0, 1].\n",
        "    # We transform them to Tensors of normalized range [-1, 1].\n",
        "    transform = transforms.Compose(\n",
        "        [transforms.ToTensor(),\n",
        "         transforms.Normalize((0.5, 0.5, 0.5), (0.5, 0.5, 0.5))])\n",
        "    trainset = torchvision.datasets.CIFAR10(root='./data', train=True,\n",
        "                                            download=True, transform=transform)\n",
        "    # Get the list of indices to sample from\n",
        "    relevant_train_indices = get_relevant_indices(\n",
        "            trainset,\n",
        "            classes,\n",
        "            target_classes)\n",
        "    # Split into train and validation\n",
        "    np.random.seed(1000) # Fixed numpy random seed for reproducible shuffling\n",
        "    np.random.shuffle(relevant_train_indices)\n",
        "    split = int(len(relevant_train_indices) * 0.8)\n",
        "    relevant_train_indices, relevant_val_indices = relevant_train_indices[:split], relevant_train_indices[split:]\n",
        "    train_sampler = SubsetRandomSampler(relevant_train_indices)\n",
        "    train_loader = torch.utils.data.DataLoader(trainset, batch_size=batch_size,\n",
        "                                               num_workers=1, sampler=train_sampler)\n",
        "    val_sampler = SubsetRandomSampler(relevant_val_indices)\n",
        "    val_loader = torch.utils.data.DataLoader(trainset, batch_size=batch_size,\n",
        "                                              num_workers=1, sampler=val_sampler)\n",
        "    testset = torchvision.datasets.CIFAR10(root='./data', train=False,\n",
        "                                           download=True, transform=transform)\n",
        "    relevant_test_indices = get_relevant_indices(testset, classes, target_classes)\n",
        "    test_sampler = SubsetRandomSampler(relevant_test_indices)\n",
        "    test_loader = torch.utils.data.DataLoader(testset, batch_size=batch_size,\n",
        "                                             num_workers=1, sampler=test_sampler)\n",
        "    return train_loader, val_loader, test_loader, classes\n",
        "\n",
        "###############################################################################\n",
        "# Training\n",
        "def get_model_name(name, batch_size, learning_rate, epoch):\n",
        "    \"\"\" Generate a name for the model consisting of all the hyperparameter values\n",
        "\n",
        "    Args:\n",
        "        config: Configuration object containing the hyperparameters\n",
        "    Returns:\n",
        "        path: A string with the hyperparameter name and value concatenated\n",
        "    \"\"\"\n",
        "    path = \"model_{0}_bs{1}_lr{2}_epoch{3}\".format(name,\n",
        "                                                   batch_size,\n",
        "                                                   learning_rate,\n",
        "                                                   epoch)\n",
        "    return path\n",
        "\n",
        "def normalize_label(labels):\n",
        "    \"\"\"\n",
        "    Given a tensor containing 2 possible values, normalize this to 0/1\n",
        "\n",
        "    Args:\n",
        "        labels: a 1D tensor containing two possible scalar values\n",
        "    Returns:\n",
        "        A tensor normalize to 0/1 value\n",
        "    \"\"\"\n",
        "    max_val = torch.max(labels)\n",
        "    min_val = torch.min(labels)\n",
        "    norm_labels = (labels - min_val)/(max_val - min_val)\n",
        "    return norm_labels\n",
        "\n",
        "def evaluate(net, loader, criterion):\n",
        "    \"\"\" Evaluate the network on the validation set.\n",
        "\n",
        "     Args:\n",
        "         net: PyTorch neural network object\n",
        "         loader: PyTorch data loader for the validation set\n",
        "         criterion: The loss function\n",
        "     Returns:\n",
        "         err: A scalar for the avg classification error over the validation set\n",
        "         loss: A scalar for the average loss function over the validation set\n",
        "     \"\"\"\n",
        "    total_loss = 0.0\n",
        "    total_err = 0.0\n",
        "    total_epoch = 0\n",
        "    for i, data in enumerate(loader, 0):\n",
        "        inputs, labels = data\n",
        "        labels = normalize_label(labels)  # Convert labels to 0/1\n",
        "        outputs = net(inputs)\n",
        "        loss = criterion(outputs, labels.float())\n",
        "        corr = (outputs > 0.0).squeeze().long() != labels\n",
        "        total_err += int(corr.sum())\n",
        "        total_loss += loss.item()\n",
        "        total_epoch += len(labels)\n",
        "    err = float(total_err) / total_epoch\n",
        "    loss = float(total_loss) / (i + 1)\n",
        "    return err, loss\n",
        "\n",
        "###############################################################################\n",
        "# Training Curve\n",
        "def plot_training_curve(path):\n",
        "    \"\"\" Plots the training curve for a model run, given the csv files\n",
        "    containing the train/validation error/loss.\n",
        "\n",
        "    Args:\n",
        "        path: The base path of the csv files produced during training\n",
        "    \"\"\"\n",
        "    import matplotlib.pyplot as plt\n",
        "    train_err = np.loadtxt(\"{}_train_err.csv\".format(path))\n",
        "    val_err = np.loadtxt(\"{}_val_err.csv\".format(path))\n",
        "    train_loss = np.loadtxt(\"{}_train_loss.csv\".format(path))\n",
        "    val_loss = np.loadtxt(\"{}_val_loss.csv\".format(path))\n",
        "    plt.title(\"Train vs Validation Error\")\n",
        "    n = len(train_err) # number of epochs\n",
        "    plt.plot(range(1,n+1), train_err, label=\"Train\")\n",
        "    plt.plot(range(1,n+1), val_err, label=\"Validation\")\n",
        "    plt.xlabel(\"Epoch\")\n",
        "    plt.ylabel(\"Error\")\n",
        "    plt.legend(loc='best')\n",
        "    plt.show()\n",
        "    plt.title(\"Train vs Validation Loss\")\n",
        "    plt.plot(range(1,n+1), train_loss, label=\"Train\")\n",
        "    plt.plot(range(1,n+1), val_loss, label=\"Validation\")\n",
        "    plt.xlabel(\"Epoch\")\n",
        "    plt.ylabel(\"Loss\")\n",
        "    plt.legend(loc='best')\n",
        "    plt.show()"
      ],
      "execution_count": 0,
      "outputs": []
    },
    {
      "cell_type": "markdown",
      "metadata": {
        "id": "bJxMgWGNqID2",
        "colab_type": "text"
      },
      "source": [
        "## Part 1. Visualizing the Data [7 pt]\n",
        "\n",
        "We will make use of some of the CIFAR-10 data set, which consists of \n",
        "colour images of size 32x32 pixels belonging to 10 categories. You can\n",
        "find out more about the dataset at https://www.cs.toronto.edu/~kriz/cifar.html\n",
        "\n",
        "For this assignment, we will only be using the cat and dog categories. \n",
        "We have included code that automatically downloads the dataset the \n",
        "first time that the main script is run."
      ]
    },
    {
      "cell_type": "code",
      "metadata": {
        "scrolled": true,
        "id": "Rp7LVcGfqID3",
        "colab_type": "code",
        "outputId": "59916dda-635b-45d4-e9f3-f6f96d643f22",
        "colab": {
          "base_uri": "https://localhost:8080/",
          "height": 67
        }
      },
      "source": [
        "# This will download the CIFAR-10 dataset to a folder called \"data\"\n",
        "# the first time you run this code.\n",
        "train_loader, val_loader, test_loader, classes = get_data_loader(\n",
        "    target_classes=[\"cat\", \"dog\"], \n",
        "    batch_size=1) # One image per batch"
      ],
      "execution_count": 3,
      "outputs": [
        {
          "output_type": "stream",
          "text": [
            "\r0it [00:00, ?it/s]"
          ],
          "name": "stderr"
        },
        {
          "output_type": "stream",
          "text": [
            "Downloading https://www.cs.toronto.edu/~kriz/cifar-10-python.tar.gz to ./data/cifar-10-python.tar.gz\n"
          ],
          "name": "stdout"
        },
        {
          "output_type": "stream",
          "text": [
            " 99%|█████████▉| 169402368/170498071 [00:12<00:00, 17017325.48it/s]"
          ],
          "name": "stderr"
        },
        {
          "output_type": "stream",
          "text": [
            "Extracting ./data/cifar-10-python.tar.gz to ./data\n",
            "Files already downloaded and verified\n"
          ],
          "name": "stdout"
        }
      ]
    },
    {
      "cell_type": "markdown",
      "metadata": {
        "id": "JiYX_HM-qID6",
        "colab_type": "text"
      },
      "source": [
        "### Part (a) -- 1 pt\n",
        "\n",
        "Visualize some of the data by running the code below.\n",
        "Include the visualization in your writeup.\n",
        "\n",
        "(You don't need to submit anything else.)"
      ]
    },
    {
      "cell_type": "code",
      "metadata": {
        "scrolled": true,
        "id": "UJ4pYFTQqID7",
        "colab_type": "code",
        "outputId": "01dac1fd-7ed5-4092-ef3c-4d712ea1d7fe",
        "colab": {
          "base_uri": "https://localhost:8080/",
          "height": 242
        }
      },
      "source": [
        "import matplotlib.pyplot as plt\n",
        "\n",
        "k = 0\n",
        "for images, labels in train_loader:\n",
        "    # since batch_size = 1, there is only 1 image in `images`\n",
        "    image = images[0]\n",
        "    # place the colour channel at the end, instead of at the beginning\n",
        "    img = np.transpose(image, [1,2,0])\n",
        "    # normalize pixel intensity values to [0, 1]\n",
        "    img = img / 2 + 0.5\n",
        "    plt.subplot(3, 5, k+1)\n",
        "    plt.axis('off')\n",
        "    plt.imshow(img)\n",
        "\n",
        "    k += 1\n",
        "    if k > 14:\n",
        "        break"
      ],
      "execution_count": 5,
      "outputs": [
        {
          "output_type": "display_data",
          "data": {
            "image/png": "[encoded data removed]",
            "text/plain": [
              "<Figure size 432x288 with 15 Axes>"
            ]
          },
          "metadata": {
            "tags": []
          }
        }
      ]
    },
    {
      "cell_type": "markdown",
      "metadata": {
        "id": "UmHiUOaDqID9",
        "colab_type": "text"
      },
      "source": [
        "### Part (b) -- 3 pt\n",
        "\n",
        "How many training examples do we have for the combined `cat` and `dog` classes? \n",
        "What about validation examples? \n",
        "What about test examples?"
      ]
    },
    {
      "cell_type": "code",
      "metadata": {
        "id": "6p4eAz1IqID-",
        "colab_type": "code",
        "outputId": "606e19f6-cc95-461d-e669-958cd7e9d586",
        "colab": {
          "base_uri": "https://localhost:8080/",
          "height": 67
        }
      },
      "source": [
        "print(\"Number of training examples: \", len(train_loader))\n",
        "print(\"Number of validation examples: \", len(val_loader))\n",
        "print(\"Number of test examples: \", len(test_loader))"
      ],
      "execution_count": 6,
      "outputs": [
        {
          "output_type": "stream",
          "text": [
            "Number of training examples:  8000\n",
            "Number of validation examples:  2000\n",
            "Number of test examples:  2000\n"
          ],
          "name": "stdout"
        }
      ]
    },
    {
      "cell_type": "markdown",
      "metadata": {
        "id": "3aY25I_oqIEB",
        "colab_type": "text"
      },
      "source": [
        "### Part (c) -- 3pt\n",
        "\n",
        "Why do we need a validation set when training our model? What happens if we judge the \n",
        "performance of our models using the training set loss/error instead of the validation\n",
        "set loss/error?"
      ]
    },
    {
      "cell_type": "markdown",
      "metadata": {
        "id": "Uonh2XjwkDt4",
        "colab_type": "text"
      },
      "source": [
        "#### Answer for part 1(c)\n",
        "\n",
        "A validation set is required to interprete the performance of our model. We need to identify whether the model is improving or not, and doing so is not possible with the training data set as our model. This is because our model was trained on that data set, and so our interpretations of performance based on training data will be inaccurate as our model will be biased towards the training data set."
      ]
    },
    {
      "cell_type": "markdown",
      "metadata": {
        "id": "6iYZ4xXHqIEE",
        "colab_type": "text"
      },
      "source": [
        "## Part 2. Training [15 pt]\n",
        "\n",
        "We define two neural networks, a `LargeNet` and `SmallNet`.\n",
        "We'll be training the networks in this section.\n",
        "\n",
        "You won't understand fully what these networks are doing until\n",
        "the next few classes, and that's okay. For this assignment, please\n",
        "focus on learning how to train networks, and how hyperparameters affect\n",
        "training."
      ]
    },
    {
      "cell_type": "code",
      "metadata": {
        "id": "HniZoI3lqIEF",
        "colab_type": "code",
        "colab": {}
      },
      "source": [
        "class LargeNet(nn.Module):\n",
        "    def __init__(self):\n",
        "        super(LargeNet, self).__init__()\n",
        "        self.name = \"large\"\n",
        "        self.conv1 = nn.Conv2d(3, 5, 5)\n",
        "        self.pool = nn.MaxPool2d(2, 2)\n",
        "        self.conv2 = nn.Conv2d(5, 10, 5)\n",
        "        self.fc1 = nn.Linear(10 * 5 * 5, 32)\n",
        "        self.fc2 = nn.Linear(32, 1)\n",
        "\n",
        "    def forward(self, x):\n",
        "        x = self.pool(F.relu(self.conv1(x)))\n",
        "        x = self.pool(F.relu(self.conv2(x)))\n",
        "        x = x.view(-1, 10 * 5 * 5)\n",
        "        x = F.relu(self.fc1(x))\n",
        "        x = self.fc2(x)\n",
        "        x = x.squeeze(1) # Flatten to [batch_size]\n",
        "        return x"
      ],
      "execution_count": 0,
      "outputs": []
    },
    {
      "cell_type": "code",
      "metadata": {
        "id": "pJgOmJdvqIEH",
        "colab_type": "code",
        "colab": {}
      },
      "source": [
        "class SmallNet(nn.Module):\n",
        "    def __init__(self):\n",
        "        super(SmallNet, self).__init__()\n",
        "        self.name = \"small\"\n",
        "        self.conv = nn.Conv2d(3, 5, 3)\n",
        "        self.pool = nn.MaxPool2d(2, 2)\n",
        "        self.fc = nn.Linear(5 * 7 * 7, 1)\n",
        "\n",
        "    def forward(self, x):\n",
        "        x = self.pool(F.relu(self.conv(x)))\n",
        "        x = self.pool(x)\n",
        "        x = x.view(-1, 5 * 7 * 7)\n",
        "        x = self.fc(x)\n",
        "        x = x.squeeze(1) # Flatten to [batch_size]\n",
        "        return x"
      ],
      "execution_count": 0,
      "outputs": []
    },
    {
      "cell_type": "code",
      "metadata": {
        "id": "pMJZt_S2qIEM",
        "colab_type": "code",
        "colab": {}
      },
      "source": [
        "small_net = SmallNet()\n",
        "large_net = LargeNet()"
      ],
      "execution_count": 0,
      "outputs": []
    },
    {
      "cell_type": "markdown",
      "metadata": {
        "id": "-ekO3pj9qIEQ",
        "colab_type": "text"
      },
      "source": [
        "### Part (a) -- 2pt\n",
        "\n",
        "The methods `small_net.parameters()` and `large_net.parameters()`\n",
        "produces an iterator of all the trainable parameters of the network.\n",
        "These parameters are torch tensors containing many scalar values. \n",
        "\n",
        "We haven't learned how how the parameters in these high-dimensional\n",
        "tensors will be used, but we should be able to count the number\n",
        "of parameters. Measuring the number of parameters in a network is\n",
        "one way of measuring the \"size\" of a network.\n",
        "\n",
        "What is the total number of parameters in `small_net` and in\n",
        "`large_net`? (Hint: how many numbers are in each tensor?)"
      ]
    },
    {
      "cell_type": "code",
      "metadata": {
        "id": "dc4keyOnqIER",
        "colab_type": "code",
        "colab": {
          "base_uri": "https://localhost:8080/",
          "height": 50
        },
        "outputId": "78a52ad9-a577-4e27-c41c-97f45da85169"
      },
      "source": [
        "small_net_size = 0\n",
        "large_net_size = 0\n",
        "\n",
        "for param in small_net.parameters():\n",
        "    small_net_size += param.nelement()  # nelement() gives number of elements in tensor\n",
        "\n",
        "for param in large_net.parameters():\n",
        "    large_net_size += param.nelement()\n",
        "\n",
        "print(\"Size of small_net: \", small_net_size)\n",
        "print(\"Size of large_net: \", large_net_size)"
      ],
      "execution_count": 11,
      "outputs": [
        {
          "output_type": "stream",
          "text": [
            "Size of small_net:  386\n",
            "Size of large_net:  9705\n"
          ],
          "name": "stdout"
        }
      ]
    },
    {
      "cell_type": "markdown",
      "metadata": {
        "id": "OcZVo2DsqIET",
        "colab_type": "text"
      },
      "source": [
        "### The function train_net\n",
        "\n",
        "The function `train_net` below takes an untrained neural network (like `small_net` and `large_net`) and\n",
        "several other parameters. You should be able to understand how this function works.\n",
        "The figure below shows the high level training loop for a machine learning model:\n",
        "\n",
        "![alt text](https://github.com/UTNeural/Lab2/blob/master/Diagram.png?raw=true)"
      ]
    },
    {
      "cell_type": "code",
      "metadata": {
        "id": "jC90G_VGqIEU",
        "colab_type": "code",
        "colab": {}
      },
      "source": [
        "def train_net(net, batch_size=64, learning_rate=0.01, num_epochs=30):\n",
        "    ########################################################################\n",
        "    # Train a classifier on cats vs dogs\n",
        "    target_classes = [\"cat\", \"dog\"]\n",
        "    ########################################################################\n",
        "    # Fixed PyTorch random seed for reproducible result\n",
        "    torch.manual_seed(1000)\n",
        "    ########################################################################\n",
        "    # Obtain the PyTorch data loader objects to load batches of the datasets\n",
        "    train_loader, val_loader, test_loader, classes = get_data_loader(\n",
        "            target_classes, batch_size)\n",
        "    ########################################################################\n",
        "    # Define the Loss function and optimizer\n",
        "    # The loss function will be Binary Cross Entropy (BCE). In this case we\n",
        "    # will use the BCEWithLogitsLoss which takes unnormalized output from\n",
        "    # the neural network and scalar label.\n",
        "    # Optimizer will be SGD with Momentum.\n",
        "    criterion = nn.BCEWithLogitsLoss()\n",
        "    optimizer = optim.SGD(net.parameters(), lr=learning_rate, momentum=0.9)\n",
        "    ########################################################################\n",
        "    # Set up some numpy arrays to store the training/test loss/erruracy\n",
        "    train_err = np.zeros(num_epochs)\n",
        "    train_loss = np.zeros(num_epochs)\n",
        "    val_err = np.zeros(num_epochs)\n",
        "    val_loss = np.zeros(num_epochs)\n",
        "    ########################################################################\n",
        "    # Train the network\n",
        "    # Loop over the data iterator and sample a new batch of training data\n",
        "    # Get the output from the network, and optimize our loss function.\n",
        "    start_time = time.time()\n",
        "    for epoch in range(num_epochs):  # loop over the dataset multiple times\n",
        "        total_train_loss = 0.0\n",
        "        total_train_err = 0.0\n",
        "        total_epoch = 0\n",
        "        for i, data in enumerate(train_loader, 0):\n",
        "            # Get the inputs\n",
        "            inputs, labels = data\n",
        "            labels = normalize_label(labels) # Convert labels to 0/1\n",
        "            # Zero the parameter gradients\n",
        "            optimizer.zero_grad()\n",
        "            # Forward pass, backward pass, and optimize\n",
        "            outputs = net(inputs)\n",
        "            loss = criterion(outputs, labels.float())\n",
        "            loss.backward()\n",
        "            optimizer.step()\n",
        "            # Calculate the statistics\n",
        "            corr = (outputs > 0.0).squeeze().long() != labels\n",
        "            total_train_err += int(corr.sum())\n",
        "            total_train_loss += loss.item()\n",
        "            total_epoch += len(labels)\n",
        "        train_err[epoch] = float(total_train_err) / total_epoch\n",
        "        train_loss[epoch] = float(total_train_loss) / (i+1)\n",
        "        val_err[epoch], val_loss[epoch] = evaluate(net, val_loader, criterion)\n",
        "        print((\"Epoch {}: Train err: {}, Train loss: {} |\"+\n",
        "               \"Validation err: {}, Validation loss: {}\").format(\n",
        "                   epoch + 1,\n",
        "                   train_err[epoch],\n",
        "                   train_loss[epoch],\n",
        "                   val_err[epoch],\n",
        "                   val_loss[epoch]))\n",
        "        # Save the current model (checkpoint) to a file\n",
        "        model_path = get_model_name(net.name, batch_size, learning_rate, epoch)\n",
        "        torch.save(net.state_dict(), model_path)\n",
        "    print('Finished Training')\n",
        "    end_time = time.time()\n",
        "    elapsed_time = end_time - start_time\n",
        "    print(\"Total time elapsed: {:.2f} seconds\".format(elapsed_time))\n",
        "    # Write the train/test loss/err into CSV file for plotting later\n",
        "    epochs = np.arange(1, num_epochs + 1)\n",
        "    np.savetxt(\"{}_train_err.csv\".format(model_path), train_err)\n",
        "    np.savetxt(\"{}_train_loss.csv\".format(model_path), train_loss)\n",
        "    np.savetxt(\"{}_val_err.csv\".format(model_path), val_err)\n",
        "    np.savetxt(\"{}_val_loss.csv\".format(model_path), val_loss)"
      ],
      "execution_count": 0,
      "outputs": []
    },
    {
      "cell_type": "markdown",
      "metadata": {
        "id": "jEhligNaqIEW",
        "colab_type": "text"
      },
      "source": [
        "### Part (b) -- 1pt\n",
        "\n",
        "The parameters to the function `train_net` are hyperparameters of our neural network.\n",
        "We made these hyperparameters easy to modify so that we can tune them later on. \n",
        "\n",
        "What are the default values of the parameters `batch_size`, `learning_rate`, \n",
        "and `num_epochs`?"
      ]
    },
    {
      "cell_type": "markdown",
      "metadata": {
        "id": "EFxs9FmOmlfk",
        "colab_type": "text"
      },
      "source": [
        "#### Answer to part 2(b)\n",
        "\n",
        "The default value of `batch_size` is 64.<br>\n",
        "The default value of `learning_rate` is 0.01.<br>\n",
        "The default value of `num_epochs` is 30."
      ]
    },
    {
      "cell_type": "markdown",
      "metadata": {
        "id": "Qy_yv9NMqIEa",
        "colab_type": "text"
      },
      "source": [
        "### Part (c) -- 3 pt\n",
        "\n",
        "What files are written to disk when we call `train_net` with `small_net`, and train for 5 epochs? Provide a list\n",
        "of all the files written to disk, and what information the files contain."
      ]
    },
    {
      "cell_type": "markdown",
      "metadata": {
        "id": "LEUgigMNputN",
        "colab_type": "text"
      },
      "source": [
        "#### Answer to part 2(c)\n",
        "\n",
        "The files written to disk are:\n",
        "\n",
        "`model_small_bs64_lr0.01_epoch0`: Contains the model state after the first epoch.<br>\n",
        "`model_small_bs64_lr0.01_epoch1`: Contains the model state after the second epoch.<br>\n",
        "`model_small_bs64_lr0.01_epoch2`: Contains the model state after the third epoch.<br>\n",
        "`model_small_bs64_lr0.01_epoch3`: Contains the model state after the fourth epoch.<br>\n",
        "`model_small_bs64_lr0.01_epoch4`: Contains the model state after the fifth epoch.<br>\n",
        "<br>\n",
        "`model_small_bs64_lr0.01_epoch4_train_err.csv`: Contains the training error for each epoch.<br>\n",
        "`model_small_bs64_lr0.01_epoch4_train_loss.csv`: Contains the training loss for each epoch.<br>\n",
        "`model_small_bs64_lr0.01_epoch4_val_err.csv`: Contains the validation error for each epoch.<br>\n",
        "`model_small_bs64_lr0.01_epoch4_val_loss.csv`: Contains the validation loss for each epoch."
      ]
    },
    {
      "cell_type": "markdown",
      "metadata": {
        "id": "a6shtCFDqIEd",
        "colab_type": "text"
      },
      "source": [
        "### Part (d) -- 2pt\n",
        "\n",
        "Train both `small_net` and `large_net` using the function `train_net` and its default parameters.\n",
        "The function will write many files to disk, including a model checkpoint (saved values of model weights) \n",
        "at the end of each epoch.\n",
        "\n",
        "If you are using Google Colab, you will need to mount Google Drive \n",
        "so that the files generated by `train_net` gets saved. We will be using\n",
        "these files in part (d).\n",
        "(See the Google Colab tutorial for more information about this.)\n",
        "\n",
        "Report the total time elapsed when training each network. Which network took longer to train?\n",
        "Why?"
      ]
    },
    {
      "cell_type": "code",
      "metadata": {
        "id": "tawIVwTfqIEe",
        "colab_type": "code",
        "colab": {
          "base_uri": "https://localhost:8080/",
          "height": 121
        },
        "outputId": "89eec8f7-159b-499a-bc8d-3b73962de560"
      },
      "source": [
        "# Since the function writes files to disk, you will need to mount\n",
        "# your Google Drive. If you are working on the lab locally, you\n",
        "# can comment out this code.\n",
        "\n",
        "from google.colab import drive\n",
        "drive.mount('/content/gdrive')"
      ],
      "execution_count": 15,
      "outputs": [
        {
          "output_type": "stream",
          "text": [
            "Go to this URL in a browser: https://accounts.google.com/o/oauth2/auth?client_id=947318989803-6bn6qk8qdgf4n4g3pfee6491hc0brc4i.apps.googleusercontent.com&redirect_uri=urn%3aietf%3awg%3aoauth%3a2.0%3aoob&response_type=code&scope=email%20https%3a%2f%2fwww.googleapis.com%2fauth%2fdocs.test%20https%3a%2f%2fwww.googleapis.com%2fauth%2fdrive%20https%3a%2f%2fwww.googleapis.com%2fauth%2fdrive.photos.readonly%20https%3a%2f%2fwww.googleapis.com%2fauth%2fpeopleapi.readonly\n",
            "\n",
            "Enter your authorization code:\n",
            "··········\n",
            "Mounted at /content/gdrive\n"
          ],
          "name": "stdout"
        }
      ]
    },
    {
      "cell_type": "code",
      "metadata": {
        "id": "MWSZm9SvqIEh",
        "colab_type": "code",
        "colab": {
          "base_uri": "https://localhost:8080/",
          "height": 1000
        },
        "outputId": "d506d4bd-c4d5-4392-efce-2130d7fa9bc2"
      },
      "source": [
        "train_net(small_net)\n",
        "train_net(large_net)"
      ],
      "execution_count": 16,
      "outputs": [
        {
          "output_type": "stream",
          "text": [
            "Files already downloaded and verified\n",
            "Files already downloaded and verified\n",
            "Epoch 1: Train err: 0.426875, Train loss: 0.6729682574272156 |Validation err: 0.384, Validation loss: 0.6543697379529476\n",
            "Epoch 2: Train err: 0.36425, Train loss: 0.6449842591285706 |Validation err: 0.3795, Validation loss: 0.6552285999059677\n",
            "Epoch 3: Train err: 0.351625, Train loss: 0.6322129492759705 |Validation err: 0.345, Validation loss: 0.6252249795943499\n",
            "Epoch 4: Train err: 0.33475, Train loss: 0.6163010168075561 |Validation err: 0.3405, Validation loss: 0.6195676233619452\n",
            "Epoch 5: Train err: 0.327875, Train loss: 0.6034068064689636 |Validation err: 0.3245, Validation loss: 0.6115149520337582\n",
            "Epoch 6: Train err: 0.3085, Train loss: 0.5868366808891297 |Validation err: 0.324, Validation loss: 0.6065000705420971\n",
            "Epoch 7: Train err: 0.305875, Train loss: 0.5775991632938385 |Validation err: 0.316, Validation loss: 0.5918471906334162\n",
            "Epoch 8: Train err: 0.296875, Train loss: 0.5675872461795807 |Validation err: 0.312, Validation loss: 0.5878182779997587\n",
            "Epoch 9: Train err: 0.28825, Train loss: 0.5644446897506714 |Validation err: 0.3055, Validation loss: 0.58567407540977\n",
            "Epoch 10: Train err: 0.28725, Train loss: 0.5581038711071015 |Validation err: 0.3145, Validation loss: 0.5816246382892132\n",
            "Epoch 11: Train err: 0.28475, Train loss: 0.5567858433723449 |Validation err: 0.318, Validation loss: 0.5790610983967781\n",
            "Epoch 12: Train err: 0.2805, Train loss: 0.55062513256073 |Validation err: 0.3115, Validation loss: 0.5929448371753097\n",
            "Epoch 13: Train err: 0.283, Train loss: 0.5540926654338837 |Validation err: 0.311, Validation loss: 0.5808670064434409\n",
            "Epoch 14: Train err: 0.276625, Train loss: 0.5480497236251831 |Validation err: 0.315, Validation loss: 0.5971809262409806\n",
            "Epoch 15: Train err: 0.279125, Train loss: 0.5472877254486084 |Validation err: 0.3085, Validation loss: 0.5812386386096478\n",
            "Epoch 16: Train err: 0.28075, Train loss: 0.5510434954166412 |Validation err: 0.3135, Validation loss: 0.5923737743869424\n",
            "Epoch 17: Train err: 0.27525, Train loss: 0.5469000973701477 |Validation err: 0.3105, Validation loss: 0.5756622822955251\n",
            "Epoch 18: Train err: 0.274375, Train loss: 0.5438379611968994 |Validation err: 0.3025, Validation loss: 0.5784980366006494\n",
            "Epoch 19: Train err: 0.2725, Train loss: 0.5408743357658387 |Validation err: 0.303, Validation loss: 0.5863784374669194\n",
            "Epoch 20: Train err: 0.27075, Train loss: 0.5414348757266998 |Validation err: 0.2975, Validation loss: 0.5861031990498304\n",
            "Epoch 21: Train err: 0.27625, Train loss: 0.5417127969264984 |Validation err: 0.3, Validation loss: 0.5744085051119328\n",
            "Epoch 22: Train err: 0.27575, Train loss: 0.5432483026981354 |Validation err: 0.31, Validation loss: 0.5896512549370527\n",
            "Epoch 23: Train err: 0.27525, Train loss: 0.5411429040431976 |Validation err: 0.305, Validation loss: 0.5806681029498577\n",
            "Epoch 24: Train err: 0.270625, Train loss: 0.5392013971805573 |Validation err: 0.304, Validation loss: 0.5936433784663677\n",
            "Epoch 25: Train err: 0.272375, Train loss: 0.5372497029304505 |Validation err: 0.3, Validation loss: 0.5793415121734142\n",
            "Epoch 26: Train err: 0.2695, Train loss: 0.5370332744121552 |Validation err: 0.295, Validation loss: 0.5753222815692425\n",
            "Epoch 27: Train err: 0.268, Train loss: 0.5378211262226105 |Validation err: 0.3, Validation loss: 0.5877141170203686\n",
            "Epoch 28: Train err: 0.27175, Train loss: 0.5387655966281891 |Validation err: 0.2955, Validation loss: 0.5770982261747122\n",
            "Epoch 29: Train err: 0.27175, Train loss: 0.5361493678092957 |Validation err: 0.299, Validation loss: 0.5862517161294818\n",
            "Epoch 30: Train err: 0.273, Train loss: 0.5411494836807251 |Validation err: 0.2975, Validation loss: 0.582723043859005\n",
            "Finished Training\n",
            "Total time elapsed: 91.28 seconds\n",
            "Files already downloaded and verified\n",
            "Files already downloaded and verified\n",
            "Epoch 1: Train err: 0.456125, Train loss: 0.6903426952362061 |Validation err: 0.436, Validation loss: 0.6829197835177183\n",
            "Epoch 2: Train err: 0.411125, Train loss: 0.6731154193878174 |Validation err: 0.4185, Validation loss: 0.6815852019935846\n",
            "Epoch 3: Train err: 0.378625, Train loss: 0.6544155316352844 |Validation err: 0.377, Validation loss: 0.6441417522728443\n",
            "Epoch 4: Train err: 0.35925, Train loss: 0.6314589819908142 |Validation err: 0.3575, Validation loss: 0.6405176166445017\n",
            "Epoch 5: Train err: 0.340125, Train loss: 0.6146110210418702 |Validation err: 0.335, Validation loss: 0.6136596575379372\n",
            "Epoch 6: Train err: 0.323375, Train loss: 0.5959996874332428 |Validation err: 0.313, Validation loss: 0.6006096377968788\n",
            "Epoch 7: Train err: 0.31175, Train loss: 0.5867838211059571 |Validation err: 0.322, Validation loss: 0.5927210161462426\n",
            "Epoch 8: Train err: 0.299125, Train loss: 0.5698475897312164 |Validation err: 0.3135, Validation loss: 0.5873603783547878\n",
            "Epoch 9: Train err: 0.295125, Train loss: 0.563510098695755 |Validation err: 0.3135, Validation loss: 0.5823186310008168\n",
            "Epoch 10: Train err: 0.2825, Train loss: 0.5522625997066498 |Validation err: 0.2885, Validation loss: 0.5653563849627972\n",
            "Epoch 11: Train err: 0.28, Train loss: 0.5414507019519806 |Validation err: 0.2945, Validation loss: 0.5801051538437605\n",
            "Epoch 12: Train err: 0.2645, Train loss: 0.5267171688079834 |Validation err: 0.2885, Validation loss: 0.5763991326093674\n",
            "Epoch 13: Train err: 0.262875, Train loss: 0.520485140800476 |Validation err: 0.294, Validation loss: 0.5769719425588846\n",
            "Epoch 14: Train err: 0.257125, Train loss: 0.5079327461719513 |Validation err: 0.2835, Validation loss: 0.5680468725040555\n",
            "Epoch 15: Train err: 0.248875, Train loss: 0.5032503781318665 |Validation err: 0.2825, Validation loss: 0.571021655574441\n",
            "Epoch 16: Train err: 0.243125, Train loss: 0.49480326771736144 |Validation err: 0.292, Validation loss: 0.5743452254682779\n",
            "Epoch 17: Train err: 0.23775, Train loss: 0.4856313602924347 |Validation err: 0.297, Validation loss: 0.5728962095454335\n",
            "Epoch 18: Train err: 0.22325, Train loss: 0.46759171795845034 |Validation err: 0.289, Validation loss: 0.5747311022132635\n",
            "Epoch 19: Train err: 0.224, Train loss: 0.4628159022331238 |Validation err: 0.2795, Validation loss: 0.5686680972576141\n",
            "Epoch 20: Train err: 0.217625, Train loss: 0.44815078806877134 |Validation err: 0.3125, Validation loss: 0.6260916534811258\n",
            "Epoch 21: Train err: 0.218125, Train loss: 0.450642728805542 |Validation err: 0.298, Validation loss: 0.5889916503801942\n",
            "Epoch 22: Train err: 0.215625, Train loss: 0.4435607440471649 |Validation err: 0.291, Validation loss: 0.6031636940315366\n",
            "Epoch 23: Train err: 0.202, Train loss: 0.43080435919761656 |Validation err: 0.2905, Validation loss: 0.6026991698890924\n",
            "Epoch 24: Train err: 0.193125, Train loss: 0.41328356313705444 |Validation err: 0.3065, Validation loss: 0.6266334261745214\n",
            "Epoch 25: Train err: 0.18725, Train loss: 0.4024776523113251 |Validation err: 0.2935, Validation loss: 0.6215320937335491\n",
            "Epoch 26: Train err: 0.180125, Train loss: 0.38705208897590637 |Validation err: 0.287, Validation loss: 0.6452029421925545\n",
            "Epoch 27: Train err: 0.171875, Train loss: 0.37652074682712555 |Validation err: 0.2985, Validation loss: 0.6688472265377641\n",
            "Epoch 28: Train err: 0.164, Train loss: 0.3582114727497101 |Validation err: 0.3025, Validation loss: 0.6762499855831265\n",
            "Epoch 29: Train err: 0.1575, Train loss: 0.34462737309932706 |Validation err: 0.3025, Validation loss: 0.7205265946686268\n",
            "Epoch 30: Train err: 0.15125, Train loss: 0.3398781954050064 |Validation err: 0.2965, Validation loss: 0.6769934436306357\n",
            "Finished Training\n",
            "Total time elapsed: 106.44 seconds\n"
          ],
          "name": "stdout"
        }
      ]
    },
    {
      "cell_type": "markdown",
      "metadata": {
        "id": "lfpwQbyCtCF5",
        "colab_type": "text"
      },
      "source": [
        "`small_net` took 91.28 seconds to train. `large_net` took 106.44 seconds to train. `large_net` took 15.16 seconds longer to train that `small_net`.<br>\n",
        "This is because `large_net` has 9705 parameters compared to `small_net` which has 386 parameters. The larger number of parameters means it takes more processing time to calculate and update values for all of the parameters."
      ]
    },
    {
      "cell_type": "markdown",
      "metadata": {
        "id": "Pk4GIF3QqIEj",
        "colab_type": "text"
      },
      "source": [
        "### Part (e) - 2pt\n",
        "\n",
        "Use the function `plot_training_curve` to display the trajectory of the \n",
        "training/validation error and the training/validation loss.\n",
        "You will need to use the function `get_model_name` to generate the\n",
        "argument to the `plot_training_curve` function.\n",
        "\n",
        "Do this for both the small network and the large network. Include both plots\n",
        "in your writeup."
      ]
    },
    {
      "cell_type": "code",
      "metadata": {
        "id": "EXrEgOtuqIEk",
        "colab_type": "code",
        "colab": {
          "base_uri": "https://localhost:8080/",
          "height": 606
        },
        "outputId": "7b6ccaaa-718f-4b52-cc88-2e2cd163fa28"
      },
      "source": [
        "print(\"Plots for small network:\\n\")\n",
        "model_path = get_model_name(\"small\", batch_size=64, learning_rate=0.01, epoch=29)\n",
        "plot_training_curve(model_path)"
      ],
      "execution_count": 20,
      "outputs": [
        {
          "output_type": "stream",
          "text": [
            "Plots for small network:\n",
            "\n"
          ],
          "name": "stdout"
        },
        {
          "output_type": "display_data",
          "data": {
            "image/png": "[encoded data removed]",
            "text/plain": [
              "<Figure size 432x288 with 1 Axes>"
            ]
          },
          "metadata": {
            "tags": []
          }
        },
        {
          "output_type": "display_data",
          "data": {
            "image/png": "[encoded data removed]",
            "text/plain": [
              "<Figure size 432x288 with 1 Axes>"
            ]
          },
          "metadata": {
            "tags": []
          }
        }
      ]
    },
    {
      "cell_type": "code",
      "metadata": {
        "id": "KpZLhGfrwUbX",
        "colab_type": "code",
        "colab": {
          "base_uri": "https://localhost:8080/",
          "height": 606
        },
        "outputId": "7ca5d4d1-1136-43f7-eab9-c427d0f198bd"
      },
      "source": [
        "print(\"Plots for large network:\\n\")\n",
        "model_path = get_model_name(\"large\", batch_size=64, learning_rate=0.01, epoch=29)\n",
        "plot_training_curve(model_path)"
      ],
      "execution_count": 21,
      "outputs": [
        {
          "output_type": "stream",
          "text": [
            "Plots for large network:\n",
            "\n"
          ],
          "name": "stdout"
        },
        {
          "output_type": "display_data",
          "data": {
            "image/png": "[encoded data removed]",
            "text/plain": [
              "<Figure size 432x288 with 1 Axes>"
            ]
          },
          "metadata": {
            "tags": []
          }
        },
        {
          "output_type": "display_data",
          "data": {
            "image/png": "[encoded data removed]",
            "text/plain": [
              "<Figure size 432x288 with 1 Axes>"
            ]
          },
          "metadata": {
            "tags": []
          }
        }
      ]
    },
    {
      "cell_type": "markdown",
      "metadata": {
        "id": "kUzWo8HRqIEu",
        "colab_type": "text"
      },
      "source": [
        "### Part (f) - 5pt\n",
        "\n",
        "Describe what you notice about the training curve.\n",
        "How do the curves differ for `small_net` and `large_net`?\n",
        "Identify any occurences of underfitting and overfitting."
      ]
    },
    {
      "cell_type": "markdown",
      "metadata": {
        "id": "a4F5HKNjwck0",
        "colab_type": "text"
      },
      "source": [
        "#### Answer to part 2(f)\n",
        "\n",
        "The training error and loss both decrease as the epoch number increases, which makes sense as the model is learning.<br>\n",
        "<br>\n",
        "The training loss and error decrease much faster for `large_net` than for `small_net`. However, there is a case of overfitting for `large_net`. We can see from the plot that the training loss decreases while the validation loss increases. This is a sign of overfitting as the model is overly biased towards the training data and so underperforms for the validation data.<br>\n",
        "Meanwhile, for `small_net`, the training loss/error eventually stops decreasing after a certain number of epochs (around 10-15). This is a sign of underfitting as the model is no longer improving on the training data set.<br>\n",
        "<br>\n",
        "So `large_net` is overfitting to the training data and `small_net` is underfitting to the training data."
      ]
    },
    {
      "cell_type": "markdown",
      "metadata": {
        "id": "jYP_y58SqIEz",
        "colab_type": "text"
      },
      "source": [
        "## Part 3. Optimization Parameters [12 pt]\n",
        "\n",
        "For this section, we will work with `large_net` only."
      ]
    },
    {
      "cell_type": "markdown",
      "metadata": {
        "id": "f1uGdKUIqIE1",
        "colab_type": "text"
      },
      "source": [
        "### Part (a) - 3pt\n",
        "\n",
        "Train `large_net` with all default parameters, except set `learning_rate=0.001`.\n",
        "Does the model take longer/shorter to train?\n",
        "Plot the training curve. Describe the effect of *lowering* the learning rate."
      ]
    },
    {
      "cell_type": "code",
      "metadata": {
        "id": "b9-toERSqIE2",
        "colab_type": "code",
        "colab": {}
      },
      "source": [
        "# Note: When we re-construct the model, we start the training\n",
        "# with *random weights*. If we omit this code, the values of\n",
        "# the weights will still be the previously trained values.\n",
        "large_net = LargeNet()"
      ],
      "execution_count": 0,
      "outputs": []
    },
    {
      "cell_type": "markdown",
      "metadata": {
        "id": "5APYluUoqIE4",
        "colab_type": "text"
      },
      "source": [
        "### Part (b) - 3pt\n",
        "\n",
        "Train `large_net` with all default parameters, except set `learning_rate=0.1`. \n",
        "Does the model take longer/shorter to train?\n",
        "Plot the training curve. Describe the effect of *increasing* the learning rate."
      ]
    },
    {
      "cell_type": "code",
      "metadata": {
        "id": "IY7GrjFxqIE5",
        "colab_type": "code",
        "colab": {}
      },
      "source": [
        ""
      ],
      "execution_count": 0,
      "outputs": []
    },
    {
      "cell_type": "markdown",
      "metadata": {
        "id": "GMb-NLitqIE7",
        "colab_type": "text"
      },
      "source": [
        "### Part (c) - 3pt\n",
        "\n",
        "Train `large_net` with all default parameters, including with `learning_rate=0.01`.\n",
        "Now, set `batch_size=512`. Does the model take longer/shorter to train?\n",
        "Plot the training curve. Describe the effect of *increasing* the batch size."
      ]
    },
    {
      "cell_type": "code",
      "metadata": {
        "id": "WHRzqMAcqIE8",
        "colab_type": "code",
        "colab": {}
      },
      "source": [
        ""
      ],
      "execution_count": 0,
      "outputs": []
    },
    {
      "cell_type": "markdown",
      "metadata": {
        "id": "DwvN15IzqIE-",
        "colab_type": "text"
      },
      "source": [
        "### Part (d) - 3pt\n",
        "\n",
        "Train `large_net` with all default parameters, including with `learning_rate=0.01`.\n",
        "Now, set `batch_size=16`. Does the model take longer/shorter to train?\n",
        "Plot the training curve. Describe the effect of *decreasing* the batch size."
      ]
    },
    {
      "cell_type": "code",
      "metadata": {
        "id": "E0SKvrNGqIE-",
        "colab_type": "code",
        "colab": {}
      },
      "source": [
        ""
      ],
      "execution_count": 0,
      "outputs": []
    },
    {
      "cell_type": "markdown",
      "metadata": {
        "id": "1MkpZLc4qIFA",
        "colab_type": "text"
      },
      "source": [
        "## Part 4. Hyperparameter Search [6 pt]\n",
        "\n",
        "### Part (a) - 2pt\n",
        "\n",
        "Based on the plots from above, choose another set of values for the hyperparameters (network, batch_size, learning_rate)\n",
        "that you think would help you improve the validation accuracy. Justify your choice."
      ]
    },
    {
      "cell_type": "code",
      "metadata": {
        "id": "0MocaZsUqIFB",
        "colab_type": "code",
        "colab": {}
      },
      "source": [
        ""
      ],
      "execution_count": 0,
      "outputs": []
    },
    {
      "cell_type": "markdown",
      "metadata": {
        "id": "fTLRs2f7qIFD",
        "colab_type": "text"
      },
      "source": [
        "### Part (b) - 1pt\n",
        "\n",
        "Train the model with the hyperparameters you chose in part(a), and include the training curve."
      ]
    },
    {
      "cell_type": "code",
      "metadata": {
        "id": "hCFV10I9qIFD",
        "colab_type": "code",
        "colab": {}
      },
      "source": [
        ""
      ],
      "execution_count": 0,
      "outputs": []
    },
    {
      "cell_type": "markdown",
      "metadata": {
        "id": "ZsO4z7JJqIFF",
        "colab_type": "text"
      },
      "source": [
        "### Part (c) - 2pt\n",
        "\n",
        "Based on your result from Part(a), suggest another set of hyperparameter values to try. \n",
        "Justify your choice."
      ]
    },
    {
      "cell_type": "code",
      "metadata": {
        "id": "4sZjOR2RqIFG",
        "colab_type": "code",
        "colab": {}
      },
      "source": [
        ""
      ],
      "execution_count": 0,
      "outputs": []
    },
    {
      "cell_type": "markdown",
      "metadata": {
        "id": "VrMyc5QnqIFI",
        "colab_type": "text"
      },
      "source": [
        "### Part (d) - 1pt\n",
        "\n",
        "Train the model with the hyperparameters you chose in part(c), and include the training curve."
      ]
    },
    {
      "cell_type": "code",
      "metadata": {
        "id": "AU0a0PHFqIFJ",
        "colab_type": "code",
        "colab": {}
      },
      "source": [
        ""
      ],
      "execution_count": 0,
      "outputs": []
    },
    {
      "cell_type": "markdown",
      "metadata": {
        "id": "1kQB1IFuqIFN",
        "colab_type": "text"
      },
      "source": [
        "## Part 4. Evaluating the Best Model [15 pt]\n"
      ]
    },
    {
      "cell_type": "markdown",
      "metadata": {
        "id": "Xxje12xKqIFN",
        "colab_type": "text"
      },
      "source": [
        "### Part (a) - 1pt\n",
        "\n",
        "Choose the **best** model that you have so far. This means choosing the best model checkpoint,\n",
        "including the choice of `small_net` vs `large_net`, the `batch_size`, `learning_rate`, \n",
        "**and the epoch number**.\n",
        "\n",
        "Modify the code below to load your chosen set of weights to the model object `net`."
      ]
    },
    {
      "cell_type": "code",
      "metadata": {
        "id": "AanLwIAEqIFO",
        "colab_type": "code",
        "colab": {}
      },
      "source": [
        "net = SmallNet()\n",
        "model_path = get_model_name(net.name, batch_size=64, learning_rate=0.01, epoch=10)\n",
        "state = torch.load(model_path)\n",
        "net.load_state_dict(state)"
      ],
      "execution_count": 0,
      "outputs": []
    },
    {
      "cell_type": "code",
      "metadata": {
        "id": "psNcmnIPqIFQ",
        "colab_type": "code",
        "colab": {}
      },
      "source": [
        ""
      ],
      "execution_count": 0,
      "outputs": []
    },
    {
      "cell_type": "markdown",
      "metadata": {
        "id": "vXXwLMIXqIFS",
        "colab_type": "text"
      },
      "source": [
        "### Part (b) - 2pt\n",
        "\n",
        "Justify your choice of model from part (a)."
      ]
    },
    {
      "cell_type": "code",
      "metadata": {
        "id": "yY0cG56EqIFS",
        "colab_type": "code",
        "colab": {}
      },
      "source": [
        ""
      ],
      "execution_count": 0,
      "outputs": []
    },
    {
      "cell_type": "markdown",
      "metadata": {
        "id": "S0GE8Z5kqIFU",
        "colab_type": "text"
      },
      "source": [
        "### Part (c) - 2pt\n",
        "\n",
        "Using the code in Part 0, any code from lecture notes, or any code that you write,\n",
        "compute and report the **test classification error** for your chosen model."
      ]
    },
    {
      "cell_type": "code",
      "metadata": {
        "id": "wPUe9iomqIFV",
        "colab_type": "code",
        "colab": {}
      },
      "source": [
        "# If you use the `evaluate` function provided in part 0, you will need to \n",
        "# set batch_size > 1\n",
        "train_loader, val_loader, test_loader, classes = get_data_loader(\n",
        "    target_classes=[\"cat\", \"dog\"], \n",
        "    batch_size=64)"
      ],
      "execution_count": 0,
      "outputs": []
    },
    {
      "cell_type": "markdown",
      "metadata": {
        "id": "RXK0XaayqIFY",
        "colab_type": "text"
      },
      "source": [
        "### Part (d) - 3pt\n",
        "\n",
        "How does the test classification error compare with the **validation error**?\n",
        "Explain why you would expect the test error to be *higher* than the validation error."
      ]
    },
    {
      "cell_type": "code",
      "metadata": {
        "id": "uxcr2b9NqIFZ",
        "colab_type": "code",
        "colab": {}
      },
      "source": [
        ""
      ],
      "execution_count": 0,
      "outputs": []
    },
    {
      "cell_type": "markdown",
      "metadata": {
        "id": "GMA9b8vXqIFd",
        "colab_type": "text"
      },
      "source": [
        "### Part (e) - 2pt\n",
        "\n",
        "Why did we only use the test data set at the very end?\n",
        "Why is it important that we use the test data as little as possible?"
      ]
    },
    {
      "cell_type": "code",
      "metadata": {
        "id": "LPH4pTRKqIFe",
        "colab_type": "code",
        "colab": {}
      },
      "source": [
        ""
      ],
      "execution_count": 0,
      "outputs": []
    },
    {
      "cell_type": "markdown",
      "metadata": {
        "id": "hxG0sYDZM2KR",
        "colab_type": "text"
      },
      "source": [
        "### Part (f) - 5pt\n",
        "\n",
        "Train a 2-layer ANN similar to what was used in Lab 1 to classific cats and dogs. Try out different hyperparameter settings to determine how well you can do on the validation dataset. Once satisified with the performance, you may test it out on the test data. How does the ANN model compare to your CNN model?"
      ]
    },
    {
      "cell_type": "code",
      "metadata": {
        "id": "pjI2Zw9jqIFg",
        "colab_type": "code",
        "colab": {}
      },
      "source": [
        ""
      ],
      "execution_count": 0,
      "outputs": []
    }
  ]
}