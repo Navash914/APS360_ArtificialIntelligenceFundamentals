{
  "nbformat": 4,
  "nbformat_minor": 0,
  "metadata": {
    "kernelspec": {
      "display_name": "Python 3",
      "language": "python",
      "name": "python3"
    },
    "language_info": {
      "codemirror_mode": {
        "name": "ipython",
        "version": 3
      },
      "file_extension": ".py",
      "mimetype": "text/x-python",
      "name": "python",
      "nbconvert_exporter": "python",
      "pygments_lexer": "ipython3",
      "version": "3.6.7"
    },
    "colab": {
      "name": "Lab 4 - Data Imputation",
      "provenance": [],
      "collapsed_sections": [],
      "include_colab_link": true
    }
  },
  "cells": [
    {
      "cell_type": "markdown",
      "metadata": {
        "id": "view-in-github",
        "colab_type": "text"
      },
      "source": [
        "<a href=\"https://colab.research.google.com/github/Navash914/APS360_ArtificialIntelligenceFundamentals/blob/master/Lab4/Lab_4_Data_Imputation.ipynb\" target=\"_parent\"><img src=\"https://colab.research.google.com/assets/colab-badge.svg\" alt=\"Open In Colab\"/></a>"
      ]
    },
    {
      "cell_type": "markdown",
      "metadata": {
        "id": "OhtOdxzd1ppr",
        "colab_type": "text"
      },
      "source": [
        "# Lab 4: Data Imputation using an Autoencoder\n",
        "\n",
        "**Deadline**: Thursday, March 5, 11:59pm\n",
        "\n",
        "**Late Penalty**: There is a penalty-free grace period of one hour past the deadline. Any work that is submitted between 1 hour and 24 hours past the deadline will receive a 20% grade deduction. No other late work is accepted. Quercus submission time will be used, not your local computer time. You can submit your labs as many times as you want before the deadline, so please submit often and early.\n",
        "\n",
        "**TA**: Chris Lucasius\n",
        "\n",
        "In this lab, you will build and train an autoencoder to impute (or \"fill in\") missing data. \n",
        "\n",
        "We will be using the\n",
        "Adult Data Set provided by the UCI Machine Learning Repository [1], available \n",
        "at https://archive.ics.uci.edu/ml/datasets/adult.\n",
        "The data set contains census record files of adults, including their\n",
        "age, martial status, the type of work they do, and other features. \n",
        "\n",
        "Normally, people use this data set to build a supervised classification\n",
        "model to classify whether a person is a high income earner.\n",
        "We will not use the dataset for this original intended purpose.\n",
        "\n",
        "Instead, we will perform the task of imputing (or \"filling in\") missing values in the dataset. For example,\n",
        "we may be missing one person's martial status, and another person's age, and\n",
        "a third person's level of education. Our model will predict the missing features \n",
        "based on the information that we do have about each person.\n",
        "\n",
        "We will use a variation of a denoising autoencoder to solve this data imputation\n",
        "problem. Our autoencoder will be trained using inputs that have one categorical feature artificially\n",
        "removed, and the goal of the autoencoder is to correctly reconstruct all features,\n",
        "including the one removed from the input.\n",
        "\n",
        "In the process, you are expected to learn to:\n",
        "\n",
        "1. Clean and process continuous and categorical data for machine learning.\n",
        "2. Implement an autoencoder that takes continuous and categorical (one-hot) inputs.\n",
        "3. Tune the hyperparameters of an autoencoder.\n",
        "4. Use baseline models to help interpret model performance.\n",
        "\n",
        "[1] Dua, D. and Karra Taniskidou, E. (2017). UCI Machine Learning Repository [http://archive.ics.uci.edu/ml]. Irvine, CA: University of California, School of Information and Computer Science.\n",
        "\n",
        "\n",
        "### What to submit\n",
        "\n",
        "Submit a PDF file containing all your code, outputs, and write-up. You can produce a PDF of your Google Colab file by going to File > Print and then save as PDF. The Colab instructions have more information (.html files are also acceptable).\n",
        "\n",
        "Do not submit any other files produced by your code.\n",
        "\n",
        "Include a link to your colab file in your submission.\n"
      ]
    },
    {
      "cell_type": "markdown",
      "metadata": {
        "id": "zbnrp2ig1pps",
        "colab_type": "text"
      },
      "source": [
        "## Colab Link\n",
        "\n",
        "Include a link to your Colab file here. If you would like the TA to look at your\n",
        "Colab file in case your solutions are cut off, **please make sure that your Colab\n",
        "file is publicly accessible at the time of submission**.\n",
        "\n",
        "Colab Link: https://colab.research.google.com/drive/1g7JsuufoagFGzaMaJG2QwQBdn9W-u3xF"
      ]
    },
    {
      "cell_type": "code",
      "metadata": {
        "id": "z3p8N43E1ppt",
        "colab_type": "code",
        "colab": {}
      },
      "source": [
        "import csv\n",
        "import numpy as np\n",
        "import random\n",
        "import torch\n",
        "import torch.utils.data"
      ],
      "execution_count": 0,
      "outputs": []
    },
    {
      "cell_type": "markdown",
      "metadata": {
        "id": "8ROwtHcz1ppx",
        "colab_type": "text"
      },
      "source": [
        "## Part 0\n",
        "\n",
        "We will be using a package called `pandas` for this assignment. \n",
        "\n",
        "If you are using Colab, `pandas` should already be available.\n",
        "If you are using your own computer,\n",
        "installation instructions for `pandas` are available here: \n",
        "https://pandas.pydata.org/pandas-docs/stable/install.html"
      ]
    },
    {
      "cell_type": "code",
      "metadata": {
        "id": "IXQ7BP151ppz",
        "colab_type": "code",
        "colab": {}
      },
      "source": [
        "import pandas as pd"
      ],
      "execution_count": 0,
      "outputs": []
    },
    {
      "cell_type": "markdown",
      "metadata": {
        "id": "hqXihb4Q1pp2",
        "colab_type": "text"
      },
      "source": [
        "# Part 1. Data Cleaning [15 pt]\n",
        "\n",
        "The adult.data file is available at `https://archive.ics.uci.edu/ml/machine-learning-databases/adult/adult.data`\n",
        "\n",
        "The function `pd.read_csv` loads the adult.data file into a pandas dataframe.\n",
        "You can read about the pandas documentation for `pd.read_csv` at\n",
        "https://pandas.pydata.org/pandas-docs/stable/reference/api/pandas.read_csv.html"
      ]
    },
    {
      "cell_type": "code",
      "metadata": {
        "id": "EOMItFKn1pp3",
        "colab_type": "code",
        "colab": {}
      },
      "source": [
        "header = ['age', 'work', 'fnlwgt', 'edu', 'yredu', 'marriage', 'occupation',\n",
        " 'relationship', 'race', 'sex', 'capgain', 'caploss', 'workhr', 'country']\n",
        "df = pd.read_csv(\n",
        "    \"https://archive.ics.uci.edu/ml/machine-learning-databases/adult/adult.data\",\n",
        "    names=header,\n",
        "    index_col=False)"
      ],
      "execution_count": 0,
      "outputs": []
    },
    {
      "cell_type": "code",
      "metadata": {
        "scrolled": true,
        "id": "62Ot405q1pp5",
        "colab_type": "code",
        "outputId": "c4d105a4-4ce5-4940-87d2-ac1a676a689f",
        "colab": {
          "base_uri": "https://localhost:8080/",
          "height": 34
        }
      },
      "source": [
        "df.shape # there are 32561 rows (records) in the data frame, and 14 columns (features)"
      ],
      "execution_count": 0,
      "outputs": [
        {
          "output_type": "execute_result",
          "data": {
            "text/plain": [
              "(32561, 14)"
            ]
          },
          "metadata": {
            "tags": []
          },
          "execution_count": 54
        }
      ]
    },
    {
      "cell_type": "markdown",
      "metadata": {
        "id": "Tr7YG-QY1pp8",
        "colab_type": "text"
      },
      "source": [
        "### Part (a) Continuous Features [3 pt]\n",
        "\n",
        "For each of the columns `[\"age\", \"yredu\", \"capgain\", \"caploss\", \"workhr\"]`, report the minimum, maximum, and average value across the dataset. \n",
        "\n",
        "Then, normalize each of the features `[\"age\", \"yredu\", \"capgain\", \"caploss\", \"workhr\"]`\n",
        "so that their values are always between 0 and 1.\n",
        "Make sure that you are actually modifying the dataframe `df`. \n",
        "\n",
        "Like numpy arrays and torch tensors, \n",
        "pandas data frames can be sliced. For example, we can\n",
        "display the first 3 rows of the data frame (3 records) below."
      ]
    },
    {
      "cell_type": "code",
      "metadata": {
        "scrolled": false,
        "id": "9evSLsSa1pp9",
        "colab_type": "code",
        "outputId": "490cb995-4e0e-4548-cb1c-77492b171e16",
        "colab": {
          "base_uri": "https://localhost:8080/",
          "height": 186
        }
      },
      "source": [
        "df[:3] # show the first 3 records"
      ],
      "execution_count": 0,
      "outputs": [
        {
          "output_type": "execute_result",
          "data": {
            "text/html": [
              "<div>\n",
              "<style scoped>\n",
              "    .dataframe tbody tr th:only-of-type {\n",
              "        vertical-align: middle;\n",
              "    }\n",
              "\n",
              "    .dataframe tbody tr th {\n",
              "        vertical-align: top;\n",
              "    }\n",
              "\n",
              "    .dataframe thead th {\n",
              "        text-align: right;\n",
              "    }\n",
              "</style>\n",
              "<table border=\"1\" class=\"dataframe\">\n",
              "  <thead>\n",
              "    <tr style=\"text-align: right;\">\n",
              "      <th></th>\n",
              "      <th>age</th>\n",
              "      <th>work</th>\n",
              "      <th>fnlwgt</th>\n",
              "      <th>edu</th>\n",
              "      <th>yredu</th>\n",
              "      <th>marriage</th>\n",
              "      <th>occupation</th>\n",
              "      <th>relationship</th>\n",
              "      <th>race</th>\n",
              "      <th>sex</th>\n",
              "      <th>capgain</th>\n",
              "      <th>caploss</th>\n",
              "      <th>workhr</th>\n",
              "      <th>country</th>\n",
              "    </tr>\n",
              "  </thead>\n",
              "  <tbody>\n",
              "    <tr>\n",
              "      <th>0</th>\n",
              "      <td>39</td>\n",
              "      <td>State-gov</td>\n",
              "      <td>77516</td>\n",
              "      <td>Bachelors</td>\n",
              "      <td>13</td>\n",
              "      <td>Never-married</td>\n",
              "      <td>Adm-clerical</td>\n",
              "      <td>Not-in-family</td>\n",
              "      <td>White</td>\n",
              "      <td>Male</td>\n",
              "      <td>2174</td>\n",
              "      <td>0</td>\n",
              "      <td>40</td>\n",
              "      <td>United-States</td>\n",
              "    </tr>\n",
              "    <tr>\n",
              "      <th>1</th>\n",
              "      <td>50</td>\n",
              "      <td>Self-emp-not-inc</td>\n",
              "      <td>83311</td>\n",
              "      <td>Bachelors</td>\n",
              "      <td>13</td>\n",
              "      <td>Married-civ-spouse</td>\n",
              "      <td>Exec-managerial</td>\n",
              "      <td>Husband</td>\n",
              "      <td>White</td>\n",
              "      <td>Male</td>\n",
              "      <td>0</td>\n",
              "      <td>0</td>\n",
              "      <td>13</td>\n",
              "      <td>United-States</td>\n",
              "    </tr>\n",
              "    <tr>\n",
              "      <th>2</th>\n",
              "      <td>38</td>\n",
              "      <td>Private</td>\n",
              "      <td>215646</td>\n",
              "      <td>HS-grad</td>\n",
              "      <td>9</td>\n",
              "      <td>Divorced</td>\n",
              "      <td>Handlers-cleaners</td>\n",
              "      <td>Not-in-family</td>\n",
              "      <td>White</td>\n",
              "      <td>Male</td>\n",
              "      <td>0</td>\n",
              "      <td>0</td>\n",
              "      <td>40</td>\n",
              "      <td>United-States</td>\n",
              "    </tr>\n",
              "  </tbody>\n",
              "</table>\n",
              "</div>"
            ],
            "text/plain": [
              "   age               work  fnlwgt  ... caploss  workhr         country\n",
              "0   39          State-gov   77516  ...       0      40   United-States\n",
              "1   50   Self-emp-not-inc   83311  ...       0      13   United-States\n",
              "2   38            Private  215646  ...       0      40   United-States\n",
              "\n",
              "[3 rows x 14 columns]"
            ]
          },
          "metadata": {
            "tags": []
          },
          "execution_count": 55
        }
      ]
    },
    {
      "cell_type": "markdown",
      "metadata": {
        "id": "gBOojI6W1pqA",
        "colab_type": "text"
      },
      "source": [
        "Alternatively, we can slice based on column names, \n",
        "for example `df[\"race\"]`, `df[\"hr\"]`, or even index multiple columns \n",
        "like below."
      ]
    },
    {
      "cell_type": "code",
      "metadata": {
        "id": "4v6pp73A1pqB",
        "colab_type": "code",
        "outputId": "69e7c4f8-4f06-4452-d0b9-8f00fcd2a93e",
        "colab": {
          "base_uri": "https://localhost:8080/",
          "height": 136
        }
      },
      "source": [
        "subdf = df[[\"age\", \"yredu\", \"capgain\", \"caploss\", \"workhr\"]]\n",
        "subdf[:3] # show the first 3 records"
      ],
      "execution_count": 0,
      "outputs": [
        {
          "output_type": "execute_result",
          "data": {
            "text/html": [
              "<div>\n",
              "<style scoped>\n",
              "    .dataframe tbody tr th:only-of-type {\n",
              "        vertical-align: middle;\n",
              "    }\n",
              "\n",
              "    .dataframe tbody tr th {\n",
              "        vertical-align: top;\n",
              "    }\n",
              "\n",
              "    .dataframe thead th {\n",
              "        text-align: right;\n",
              "    }\n",
              "</style>\n",
              "<table border=\"1\" class=\"dataframe\">\n",
              "  <thead>\n",
              "    <tr style=\"text-align: right;\">\n",
              "      <th></th>\n",
              "      <th>age</th>\n",
              "      <th>yredu</th>\n",
              "      <th>capgain</th>\n",
              "      <th>caploss</th>\n",
              "      <th>workhr</th>\n",
              "    </tr>\n",
              "  </thead>\n",
              "  <tbody>\n",
              "    <tr>\n",
              "      <th>0</th>\n",
              "      <td>39</td>\n",
              "      <td>13</td>\n",
              "      <td>2174</td>\n",
              "      <td>0</td>\n",
              "      <td>40</td>\n",
              "    </tr>\n",
              "    <tr>\n",
              "      <th>1</th>\n",
              "      <td>50</td>\n",
              "      <td>13</td>\n",
              "      <td>0</td>\n",
              "      <td>0</td>\n",
              "      <td>13</td>\n",
              "    </tr>\n",
              "    <tr>\n",
              "      <th>2</th>\n",
              "      <td>38</td>\n",
              "      <td>9</td>\n",
              "      <td>0</td>\n",
              "      <td>0</td>\n",
              "      <td>40</td>\n",
              "    </tr>\n",
              "  </tbody>\n",
              "</table>\n",
              "</div>"
            ],
            "text/plain": [
              "   age  yredu  capgain  caploss  workhr\n",
              "0   39     13     2174        0      40\n",
              "1   50     13        0        0      13\n",
              "2   38      9        0        0      40"
            ]
          },
          "metadata": {
            "tags": []
          },
          "execution_count": 56
        }
      ]
    },
    {
      "cell_type": "markdown",
      "metadata": {
        "id": "2Nru2P0E1pqD",
        "colab_type": "text"
      },
      "source": [
        "Numpy works nicely with pandas, like below:"
      ]
    },
    {
      "cell_type": "code",
      "metadata": {
        "id": "JXrS6tjp1pqE",
        "colab_type": "code",
        "outputId": "dec04a63-cc24-453e-e9b6-a41f09a5d341",
        "colab": {
          "base_uri": "https://localhost:8080/",
          "height": 34
        }
      },
      "source": [
        "np.sum(subdf[\"caploss\"])"
      ],
      "execution_count": 0,
      "outputs": [
        {
          "output_type": "execute_result",
          "data": {
            "text/plain": [
              "2842700"
            ]
          },
          "metadata": {
            "tags": []
          },
          "execution_count": 57
        }
      ]
    },
    {
      "cell_type": "markdown",
      "metadata": {
        "id": "Mv5mbxDM1pqH",
        "colab_type": "text"
      },
      "source": [
        "Just like numpy arrays, you can modify\n",
        "entire columns of data rather than one scalar element at a time.\n",
        "For example, the code  \n",
        "\n",
        "`df[\"age\"] = df[\"age\"] + 1` \n",
        "\n",
        "would increment everyone's age by 1."
      ]
    },
    {
      "cell_type": "code",
      "metadata": {
        "id": "k5rlWD7-1pqH",
        "colab_type": "code",
        "outputId": "8596aa28-c900-4eb0-eaf1-67428121b817",
        "colab": {
          "base_uri": "https://localhost:8080/",
          "height": 195
        }
      },
      "source": [
        "cols = [\"age\", \"yredu\", \"capgain\", \"caploss\", \"workhr\"]\n",
        "vals = df[cols]\n",
        "\n",
        "min_vals = vals.min(0)\n",
        "max_vals = vals.max(0)\n",
        "avg_vals = vals.sum(0)/vals.shape[0]\n",
        "min_max_avg = pd.concat([min_vals, max_vals, avg_vals], axis=1)\n",
        "min_max_avg = min_max_avg.rename(columns={0:\"min\", 1:\"max\", 2:\"average\"})\n",
        "min_max_avg"
      ],
      "execution_count": 0,
      "outputs": [
        {
          "output_type": "execute_result",
          "data": {
            "text/html": [
              "<div>\n",
              "<style scoped>\n",
              "    .dataframe tbody tr th:only-of-type {\n",
              "        vertical-align: middle;\n",
              "    }\n",
              "\n",
              "    .dataframe tbody tr th {\n",
              "        vertical-align: top;\n",
              "    }\n",
              "\n",
              "    .dataframe thead th {\n",
              "        text-align: right;\n",
              "    }\n",
              "</style>\n",
              "<table border=\"1\" class=\"dataframe\">\n",
              "  <thead>\n",
              "    <tr style=\"text-align: right;\">\n",
              "      <th></th>\n",
              "      <th>min</th>\n",
              "      <th>max</th>\n",
              "      <th>average</th>\n",
              "    </tr>\n",
              "  </thead>\n",
              "  <tbody>\n",
              "    <tr>\n",
              "      <th>age</th>\n",
              "      <td>17</td>\n",
              "      <td>90</td>\n",
              "      <td>38.581647</td>\n",
              "    </tr>\n",
              "    <tr>\n",
              "      <th>yredu</th>\n",
              "      <td>1</td>\n",
              "      <td>16</td>\n",
              "      <td>10.080679</td>\n",
              "    </tr>\n",
              "    <tr>\n",
              "      <th>capgain</th>\n",
              "      <td>0</td>\n",
              "      <td>99999</td>\n",
              "      <td>1077.648844</td>\n",
              "    </tr>\n",
              "    <tr>\n",
              "      <th>caploss</th>\n",
              "      <td>0</td>\n",
              "      <td>4356</td>\n",
              "      <td>87.303830</td>\n",
              "    </tr>\n",
              "    <tr>\n",
              "      <th>workhr</th>\n",
              "      <td>1</td>\n",
              "      <td>99</td>\n",
              "      <td>40.437456</td>\n",
              "    </tr>\n",
              "  </tbody>\n",
              "</table>\n",
              "</div>"
            ],
            "text/plain": [
              "         min    max      average\n",
              "age       17     90    38.581647\n",
              "yredu      1     16    10.080679\n",
              "capgain    0  99999  1077.648844\n",
              "caploss    0   4356    87.303830\n",
              "workhr     1     99    40.437456"
            ]
          },
          "metadata": {
            "tags": []
          },
          "execution_count": 58
        }
      ]
    },
    {
      "cell_type": "code",
      "metadata": {
        "id": "dos-Fw2wn1Rg",
        "colab_type": "code",
        "outputId": "f000786a-4a08-4cd6-b988-3a15dd239d14",
        "colab": {
          "base_uri": "https://localhost:8080/",
          "height": 186
        }
      },
      "source": [
        "for col in cols:\n",
        "  df[col] = (df[col] - min_vals[col]) / (max_vals[col] - min_vals[col])\n",
        "df[:3]"
      ],
      "execution_count": 0,
      "outputs": [
        {
          "output_type": "execute_result",
          "data": {
            "text/html": [
              "<div>\n",
              "<style scoped>\n",
              "    .dataframe tbody tr th:only-of-type {\n",
              "        vertical-align: middle;\n",
              "    }\n",
              "\n",
              "    .dataframe tbody tr th {\n",
              "        vertical-align: top;\n",
              "    }\n",
              "\n",
              "    .dataframe thead th {\n",
              "        text-align: right;\n",
              "    }\n",
              "</style>\n",
              "<table border=\"1\" class=\"dataframe\">\n",
              "  <thead>\n",
              "    <tr style=\"text-align: right;\">\n",
              "      <th></th>\n",
              "      <th>age</th>\n",
              "      <th>work</th>\n",
              "      <th>fnlwgt</th>\n",
              "      <th>edu</th>\n",
              "      <th>yredu</th>\n",
              "      <th>marriage</th>\n",
              "      <th>occupation</th>\n",
              "      <th>relationship</th>\n",
              "      <th>race</th>\n",
              "      <th>sex</th>\n",
              "      <th>capgain</th>\n",
              "      <th>caploss</th>\n",
              "      <th>workhr</th>\n",
              "      <th>country</th>\n",
              "    </tr>\n",
              "  </thead>\n",
              "  <tbody>\n",
              "    <tr>\n",
              "      <th>0</th>\n",
              "      <td>0.301370</td>\n",
              "      <td>State-gov</td>\n",
              "      <td>77516</td>\n",
              "      <td>Bachelors</td>\n",
              "      <td>0.800000</td>\n",
              "      <td>Never-married</td>\n",
              "      <td>Adm-clerical</td>\n",
              "      <td>Not-in-family</td>\n",
              "      <td>White</td>\n",
              "      <td>Male</td>\n",
              "      <td>0.02174</td>\n",
              "      <td>0.0</td>\n",
              "      <td>0.397959</td>\n",
              "      <td>United-States</td>\n",
              "    </tr>\n",
              "    <tr>\n",
              "      <th>1</th>\n",
              "      <td>0.452055</td>\n",
              "      <td>Self-emp-not-inc</td>\n",
              "      <td>83311</td>\n",
              "      <td>Bachelors</td>\n",
              "      <td>0.800000</td>\n",
              "      <td>Married-civ-spouse</td>\n",
              "      <td>Exec-managerial</td>\n",
              "      <td>Husband</td>\n",
              "      <td>White</td>\n",
              "      <td>Male</td>\n",
              "      <td>0.00000</td>\n",
              "      <td>0.0</td>\n",
              "      <td>0.122449</td>\n",
              "      <td>United-States</td>\n",
              "    </tr>\n",
              "    <tr>\n",
              "      <th>2</th>\n",
              "      <td>0.287671</td>\n",
              "      <td>Private</td>\n",
              "      <td>215646</td>\n",
              "      <td>HS-grad</td>\n",
              "      <td>0.533333</td>\n",
              "      <td>Divorced</td>\n",
              "      <td>Handlers-cleaners</td>\n",
              "      <td>Not-in-family</td>\n",
              "      <td>White</td>\n",
              "      <td>Male</td>\n",
              "      <td>0.00000</td>\n",
              "      <td>0.0</td>\n",
              "      <td>0.397959</td>\n",
              "      <td>United-States</td>\n",
              "    </tr>\n",
              "  </tbody>\n",
              "</table>\n",
              "</div>"
            ],
            "text/plain": [
              "        age               work  fnlwgt  ... caploss    workhr         country\n",
              "0  0.301370          State-gov   77516  ...     0.0  0.397959   United-States\n",
              "1  0.452055   Self-emp-not-inc   83311  ...     0.0  0.122449   United-States\n",
              "2  0.287671            Private  215646  ...     0.0  0.397959   United-States\n",
              "\n",
              "[3 rows x 14 columns]"
            ]
          },
          "metadata": {
            "tags": []
          },
          "execution_count": 59
        }
      ]
    },
    {
      "cell_type": "markdown",
      "metadata": {
        "id": "qbfMly4R1pqK",
        "colab_type": "text"
      },
      "source": [
        "### Part (b) Categorical Features [1 pt]\n",
        "\n",
        "What percentage of people in our data set are male? Note that the data labels all have an unfortunate space in the beginning, e.g. \" Male\" instead of \"Male\".\n",
        "\n",
        "What percentage of people in our data set are female?"
      ]
    },
    {
      "cell_type": "code",
      "metadata": {
        "id": "DjAjcsB_1pqK",
        "colab_type": "code",
        "outputId": "b4d429fd-0f34-4d61-ea8b-2249f657129d",
        "colab": {
          "base_uri": "https://localhost:8080/",
          "height": 50
        }
      },
      "source": [
        "num_male = sum(df[\"sex\"] == \" Male\")\n",
        "# Not doing 1-num_male because some values may be missing\n",
        "num_female = sum(df[\"sex\"] == \" Female\")\n",
        "\n",
        "percent_male = 100 * num_male / df.shape[0]\n",
        "percent_female = 100 * num_female / df.shape[0]\n",
        "\n",
        "print(\"{0:.2f}% of people in the data set are male\".format(percent_male))\n",
        "print(\"{0:.2f}% of people in the data set are female\".format(percent_female))"
      ],
      "execution_count": 0,
      "outputs": [
        {
          "output_type": "stream",
          "text": [
            "66.92% of people in the data set are male\n",
            "33.08% of people in the data set are female\n"
          ],
          "name": "stdout"
        }
      ]
    },
    {
      "cell_type": "markdown",
      "metadata": {
        "id": "eGVw7pqL1pqN",
        "colab_type": "text"
      },
      "source": [
        "### Part (c) [2 pt]\n",
        "\n",
        "Before proceeding, we will modify our data frame in a couple more ways:\n",
        "\n",
        "1. We will restrict ourselves to using a subset of the features (to simplify our autoencoder)\n",
        "2. We will remove any records (rows) already containing missing values, and store them in a second dataframe. We will only use records without missing values to train our autoencoder.\n",
        "\n",
        "Both of these steps are done for you, below.\n",
        "\n",
        "How many records contained missing features? What percentage of records were removed?"
      ]
    },
    {
      "cell_type": "code",
      "metadata": {
        "id": "z6ewPUdv1pqO",
        "colab_type": "code",
        "colab": {}
      },
      "source": [
        "contcols = [\"age\", \"yredu\", \"capgain\", \"caploss\", \"workhr\"]\n",
        "catcols = [\"work\", \"marriage\", \"occupation\", \"edu\", \"relationship\", \"sex\"]\n",
        "features = contcols + catcols\n",
        "df = df[features]"
      ],
      "execution_count": 0,
      "outputs": []
    },
    {
      "cell_type": "code",
      "metadata": {
        "id": "fjdVll5a1pqQ",
        "colab_type": "code",
        "colab": {}
      },
      "source": [
        "missing = pd.concat([df[c] == \" ?\" for c in catcols], axis=1).any(axis=1)\n",
        "df_with_missing = df[missing]\n",
        "df_not_missing = df[~missing]"
      ],
      "execution_count": 0,
      "outputs": []
    },
    {
      "cell_type": "code",
      "metadata": {
        "id": "xTuIsOQEpz2e",
        "colab_type": "code",
        "outputId": "3fc917e8-8d1d-42aa-a067-bf17a513535d",
        "colab": {
          "base_uri": "https://localhost:8080/",
          "height": 50
        }
      },
      "source": [
        "num_missing = df_with_missing.shape[0]\n",
        "percent_missing = 100 * num_missing / df.shape[0]\n",
        "print(\"{0} records contained missing features.\".format(num_missing))\n",
        "print(\"{0:.2f}% of records were removed.\".format(percent_missing))"
      ],
      "execution_count": 0,
      "outputs": [
        {
          "output_type": "stream",
          "text": [
            "1843 records contained missing features.\n",
            "5.66% of records were removed.\n"
          ],
          "name": "stdout"
        }
      ]
    },
    {
      "cell_type": "markdown",
      "metadata": {
        "id": "XuEpndTQ1pqU",
        "colab_type": "text"
      },
      "source": [
        "### Part (d) One-Hot Encoding [1 pt]\n",
        "\n",
        "What are all the possible values of the feature \"work\" in `df_not_missing`? You may find the Python function `set` useful."
      ]
    },
    {
      "cell_type": "code",
      "metadata": {
        "id": "iKFh4owE1pqV",
        "colab_type": "code",
        "outputId": "b1a33913-4985-466e-dc55-1d9dd5f98185",
        "colab": {
          "base_uri": "https://localhost:8080/",
          "height": 134
        }
      },
      "source": [
        "possible_work_vals = set(df_not_missing.work)\n",
        "possible_work_vals"
      ],
      "execution_count": 0,
      "outputs": [
        {
          "output_type": "execute_result",
          "data": {
            "text/plain": [
              "{' Federal-gov',\n",
              " ' Local-gov',\n",
              " ' Private',\n",
              " ' Self-emp-inc',\n",
              " ' Self-emp-not-inc',\n",
              " ' State-gov',\n",
              " ' Without-pay'}"
            ]
          },
          "metadata": {
            "tags": []
          },
          "execution_count": 69
        }
      ]
    },
    {
      "cell_type": "markdown",
      "metadata": {
        "id": "COv3HaKr1pqY",
        "colab_type": "text"
      },
      "source": [
        "We will be using a one-hot encoding to represent each of the categorical variables.\n",
        "Our autoencoder will be trained using these one-hot encodings.\n",
        "\n",
        "We will use the pandas function `get_dummies` to produce one-hot encodings\n",
        "for all of the categorical variables in `df_not_missing`. "
      ]
    },
    {
      "cell_type": "code",
      "metadata": {
        "id": "eKlSYmJg1pqZ",
        "colab_type": "code",
        "colab": {}
      },
      "source": [
        "data = pd.get_dummies(df_not_missing)"
      ],
      "execution_count": 0,
      "outputs": []
    },
    {
      "cell_type": "code",
      "metadata": {
        "scrolled": true,
        "id": "3y7nTZ7H1pqb",
        "colab_type": "code",
        "outputId": "db3ed643-975d-4abe-c715-2b245aba733e",
        "colab": {
          "base_uri": "https://localhost:8080/",
          "height": 223
        }
      },
      "source": [
        "data[:3]"
      ],
      "execution_count": 0,
      "outputs": [
        {
          "output_type": "execute_result",
          "data": {
            "text/html": [
              "<div>\n",
              "<style scoped>\n",
              "    .dataframe tbody tr th:only-of-type {\n",
              "        vertical-align: middle;\n",
              "    }\n",
              "\n",
              "    .dataframe tbody tr th {\n",
              "        vertical-align: top;\n",
              "    }\n",
              "\n",
              "    .dataframe thead th {\n",
              "        text-align: right;\n",
              "    }\n",
              "</style>\n",
              "<table border=\"1\" class=\"dataframe\">\n",
              "  <thead>\n",
              "    <tr style=\"text-align: right;\">\n",
              "      <th></th>\n",
              "      <th>age</th>\n",
              "      <th>yredu</th>\n",
              "      <th>capgain</th>\n",
              "      <th>caploss</th>\n",
              "      <th>workhr</th>\n",
              "      <th>work_ Federal-gov</th>\n",
              "      <th>work_ Local-gov</th>\n",
              "      <th>work_ Private</th>\n",
              "      <th>work_ Self-emp-inc</th>\n",
              "      <th>work_ Self-emp-not-inc</th>\n",
              "      <th>work_ State-gov</th>\n",
              "      <th>work_ Without-pay</th>\n",
              "      <th>marriage_ Divorced</th>\n",
              "      <th>marriage_ Married-AF-spouse</th>\n",
              "      <th>marriage_ Married-civ-spouse</th>\n",
              "      <th>marriage_ Married-spouse-absent</th>\n",
              "      <th>marriage_ Never-married</th>\n",
              "      <th>marriage_ Separated</th>\n",
              "      <th>marriage_ Widowed</th>\n",
              "      <th>occupation_ Adm-clerical</th>\n",
              "      <th>occupation_ Armed-Forces</th>\n",
              "      <th>occupation_ Craft-repair</th>\n",
              "      <th>occupation_ Exec-managerial</th>\n",
              "      <th>occupation_ Farming-fishing</th>\n",
              "      <th>occupation_ Handlers-cleaners</th>\n",
              "      <th>occupation_ Machine-op-inspct</th>\n",
              "      <th>occupation_ Other-service</th>\n",
              "      <th>occupation_ Priv-house-serv</th>\n",
              "      <th>occupation_ Prof-specialty</th>\n",
              "      <th>occupation_ Protective-serv</th>\n",
              "      <th>occupation_ Sales</th>\n",
              "      <th>occupation_ Tech-support</th>\n",
              "      <th>occupation_ Transport-moving</th>\n",
              "      <th>edu_ 10th</th>\n",
              "      <th>edu_ 11th</th>\n",
              "      <th>edu_ 12th</th>\n",
              "      <th>edu_ 1st-4th</th>\n",
              "      <th>edu_ 5th-6th</th>\n",
              "      <th>edu_ 7th-8th</th>\n",
              "      <th>edu_ 9th</th>\n",
              "      <th>edu_ Assoc-acdm</th>\n",
              "      <th>edu_ Assoc-voc</th>\n",
              "      <th>edu_ Bachelors</th>\n",
              "      <th>edu_ Doctorate</th>\n",
              "      <th>edu_ HS-grad</th>\n",
              "      <th>edu_ Masters</th>\n",
              "      <th>edu_ Preschool</th>\n",
              "      <th>edu_ Prof-school</th>\n",
              "      <th>edu_ Some-college</th>\n",
              "      <th>relationship_ Husband</th>\n",
              "      <th>relationship_ Not-in-family</th>\n",
              "      <th>relationship_ Other-relative</th>\n",
              "      <th>relationship_ Own-child</th>\n",
              "      <th>relationship_ Unmarried</th>\n",
              "      <th>relationship_ Wife</th>\n",
              "      <th>sex_ Female</th>\n",
              "      <th>sex_ Male</th>\n",
              "    </tr>\n",
              "  </thead>\n",
              "  <tbody>\n",
              "    <tr>\n",
              "      <th>0</th>\n",
              "      <td>0.301370</td>\n",
              "      <td>0.800000</td>\n",
              "      <td>0.02174</td>\n",
              "      <td>0.0</td>\n",
              "      <td>0.397959</td>\n",
              "      <td>0</td>\n",
              "      <td>0</td>\n",
              "      <td>0</td>\n",
              "      <td>0</td>\n",
              "      <td>0</td>\n",
              "      <td>1</td>\n",
              "      <td>0</td>\n",
              "      <td>0</td>\n",
              "      <td>0</td>\n",
              "      <td>0</td>\n",
              "      <td>0</td>\n",
              "      <td>1</td>\n",
              "      <td>0</td>\n",
              "      <td>0</td>\n",
              "      <td>1</td>\n",
              "      <td>0</td>\n",
              "      <td>0</td>\n",
              "      <td>0</td>\n",
              "      <td>0</td>\n",
              "      <td>0</td>\n",
              "      <td>0</td>\n",
              "      <td>0</td>\n",
              "      <td>0</td>\n",
              "      <td>0</td>\n",
              "      <td>0</td>\n",
              "      <td>0</td>\n",
              "      <td>0</td>\n",
              "      <td>0</td>\n",
              "      <td>0</td>\n",
              "      <td>0</td>\n",
              "      <td>0</td>\n",
              "      <td>0</td>\n",
              "      <td>0</td>\n",
              "      <td>0</td>\n",
              "      <td>0</td>\n",
              "      <td>0</td>\n",
              "      <td>0</td>\n",
              "      <td>1</td>\n",
              "      <td>0</td>\n",
              "      <td>0</td>\n",
              "      <td>0</td>\n",
              "      <td>0</td>\n",
              "      <td>0</td>\n",
              "      <td>0</td>\n",
              "      <td>0</td>\n",
              "      <td>1</td>\n",
              "      <td>0</td>\n",
              "      <td>0</td>\n",
              "      <td>0</td>\n",
              "      <td>0</td>\n",
              "      <td>0</td>\n",
              "      <td>1</td>\n",
              "    </tr>\n",
              "    <tr>\n",
              "      <th>1</th>\n",
              "      <td>0.452055</td>\n",
              "      <td>0.800000</td>\n",
              "      <td>0.00000</td>\n",
              "      <td>0.0</td>\n",
              "      <td>0.122449</td>\n",
              "      <td>0</td>\n",
              "      <td>0</td>\n",
              "      <td>0</td>\n",
              "      <td>0</td>\n",
              "      <td>1</td>\n",
              "      <td>0</td>\n",
              "      <td>0</td>\n",
              "      <td>0</td>\n",
              "      <td>0</td>\n",
              "      <td>1</td>\n",
              "      <td>0</td>\n",
              "      <td>0</td>\n",
              "      <td>0</td>\n",
              "      <td>0</td>\n",
              "      <td>0</td>\n",
              "      <td>0</td>\n",
              "      <td>0</td>\n",
              "      <td>1</td>\n",
              "      <td>0</td>\n",
              "      <td>0</td>\n",
              "      <td>0</td>\n",
              "      <td>0</td>\n",
              "      <td>0</td>\n",
              "      <td>0</td>\n",
              "      <td>0</td>\n",
              "      <td>0</td>\n",
              "      <td>0</td>\n",
              "      <td>0</td>\n",
              "      <td>0</td>\n",
              "      <td>0</td>\n",
              "      <td>0</td>\n",
              "      <td>0</td>\n",
              "      <td>0</td>\n",
              "      <td>0</td>\n",
              "      <td>0</td>\n",
              "      <td>0</td>\n",
              "      <td>0</td>\n",
              "      <td>1</td>\n",
              "      <td>0</td>\n",
              "      <td>0</td>\n",
              "      <td>0</td>\n",
              "      <td>0</td>\n",
              "      <td>0</td>\n",
              "      <td>0</td>\n",
              "      <td>1</td>\n",
              "      <td>0</td>\n",
              "      <td>0</td>\n",
              "      <td>0</td>\n",
              "      <td>0</td>\n",
              "      <td>0</td>\n",
              "      <td>0</td>\n",
              "      <td>1</td>\n",
              "    </tr>\n",
              "    <tr>\n",
              "      <th>2</th>\n",
              "      <td>0.287671</td>\n",
              "      <td>0.533333</td>\n",
              "      <td>0.00000</td>\n",
              "      <td>0.0</td>\n",
              "      <td>0.397959</td>\n",
              "      <td>0</td>\n",
              "      <td>0</td>\n",
              "      <td>1</td>\n",
              "      <td>0</td>\n",
              "      <td>0</td>\n",
              "      <td>0</td>\n",
              "      <td>0</td>\n",
              "      <td>1</td>\n",
              "      <td>0</td>\n",
              "      <td>0</td>\n",
              "      <td>0</td>\n",
              "      <td>0</td>\n",
              "      <td>0</td>\n",
              "      <td>0</td>\n",
              "      <td>0</td>\n",
              "      <td>0</td>\n",
              "      <td>0</td>\n",
              "      <td>0</td>\n",
              "      <td>0</td>\n",
              "      <td>1</td>\n",
              "      <td>0</td>\n",
              "      <td>0</td>\n",
              "      <td>0</td>\n",
              "      <td>0</td>\n",
              "      <td>0</td>\n",
              "      <td>0</td>\n",
              "      <td>0</td>\n",
              "      <td>0</td>\n",
              "      <td>0</td>\n",
              "      <td>0</td>\n",
              "      <td>0</td>\n",
              "      <td>0</td>\n",
              "      <td>0</td>\n",
              "      <td>0</td>\n",
              "      <td>0</td>\n",
              "      <td>0</td>\n",
              "      <td>0</td>\n",
              "      <td>0</td>\n",
              "      <td>0</td>\n",
              "      <td>1</td>\n",
              "      <td>0</td>\n",
              "      <td>0</td>\n",
              "      <td>0</td>\n",
              "      <td>0</td>\n",
              "      <td>0</td>\n",
              "      <td>1</td>\n",
              "      <td>0</td>\n",
              "      <td>0</td>\n",
              "      <td>0</td>\n",
              "      <td>0</td>\n",
              "      <td>0</td>\n",
              "      <td>1</td>\n",
              "    </tr>\n",
              "  </tbody>\n",
              "</table>\n",
              "</div>"
            ],
            "text/plain": [
              "        age     yredu  capgain  ...  relationship_ Wife  sex_ Female  sex_ Male\n",
              "0  0.301370  0.800000  0.02174  ...                   0            0          1\n",
              "1  0.452055  0.800000  0.00000  ...                   0            0          1\n",
              "2  0.287671  0.533333  0.00000  ...                   0            0          1\n",
              "\n",
              "[3 rows x 57 columns]"
            ]
          },
          "metadata": {
            "tags": []
          },
          "execution_count": 71
        }
      ]
    },
    {
      "cell_type": "markdown",
      "metadata": {
        "id": "HwjDg1uM1pqe",
        "colab_type": "text"
      },
      "source": [
        "### Part (e) One-Hot Encoding [2 pt]\n",
        "\n",
        "The dataframe `data` contains the cleaned and normalized data that we will use to train our denoising autoencoder.\n",
        "\n",
        "How many **columns** (features) are in the dataframe `data`?\n",
        "\n",
        "Briefly explain where that number come from."
      ]
    },
    {
      "cell_type": "code",
      "metadata": {
        "id": "yjZ5N0Tl1pqf",
        "colab_type": "code",
        "outputId": "06f226f9-0ee0-458f-e7ed-c5633efa9423",
        "colab": {
          "base_uri": "https://localhost:8080/",
          "height": 34
        }
      },
      "source": [
        "num_cols = data.shape[1]\n",
        "num_cols"
      ],
      "execution_count": 0,
      "outputs": [
        {
          "output_type": "execute_result",
          "data": {
            "text/plain": [
              "57"
            ]
          },
          "metadata": {
            "tags": []
          },
          "execution_count": 72
        }
      ]
    },
    {
      "cell_type": "markdown",
      "metadata": {
        "id": "ex-xxkzjrvdk",
        "colab_type": "text"
      },
      "source": [
        "The number came from expanding all the categorical columns into one-hot encoded values."
      ]
    },
    {
      "cell_type": "markdown",
      "metadata": {
        "id": "OEJ0Ci3l1pqh",
        "colab_type": "text"
      },
      "source": [
        "### Part (f) One-Hot Conversion [3 pt]\n",
        "\n",
        "We will convert the pandas data frame `data` into numpy, so that\n",
        "it can be further converted into a PyTorch tensor.\n",
        "However, in doing so, we lose the column label information that\n",
        "a panda data frame automatically stores.\n",
        "\n",
        "Complete the function `get_categorical_value` that will return\n",
        "the named value of a feature given a one-hot embedding.\n",
        "You may find the global variables `cat_index` and `cat_values`\n",
        "useful. (Display them and figure out what they are first.)\n",
        "\n",
        "We will need this function in the next part of the lab\n",
        "to interpret our autoencoder outputs. So, the input\n",
        "to our function `get_categorical_values` might not \n",
        "actually be \"one-hot\" -- the input may instead \n",
        "contain real-valued predictions from our neural network."
      ]
    },
    {
      "cell_type": "code",
      "metadata": {
        "id": "ZmovX6gu1pqi",
        "colab_type": "code",
        "colab": {}
      },
      "source": [
        "datanp = data.values.astype(np.float32)"
      ],
      "execution_count": 0,
      "outputs": []
    },
    {
      "cell_type": "code",
      "metadata": {
        "id": "YRIa5MBd1pql",
        "colab_type": "code",
        "colab": {}
      },
      "source": [
        "cat_index = {}  # Mapping of feature -> start index of feature in a record\n",
        "cat_values = {} # Mapping of feature -> list of categorical values the feature can take\n",
        "\n",
        "# build up the cat_index and cat_values dictionary\n",
        "for i, header in enumerate(data.keys()):\n",
        "    if \"_\" in header: # categorical header\n",
        "        feature, value = header.split()\n",
        "        feature = feature[:-1] # remove the last char; it is always an underscore\n",
        "        if feature not in cat_index:\n",
        "            cat_index[feature] = i\n",
        "            cat_values[feature] = [value]\n",
        "        else:\n",
        "            cat_values[feature].append(value)\n",
        "\n",
        "def get_onehot(record, feature):\n",
        "    \"\"\"\n",
        "    Return the portion of `record` that is the one-hot encoding\n",
        "    of `feature`. For example, since the feature \"work\" is stored\n",
        "    in the indices [5:12] in each record, calling `get_range(record, \"work\")`\n",
        "    is equivalent to accessing `record[5:12]`.\n",
        "    \n",
        "    Args:\n",
        "        - record: a numpy array representing one record, formatted\n",
        "                  the same way as a row in `data.np`\n",
        "        - feature: a string, should be an element of `catcols`\n",
        "    \"\"\"\n",
        "    start_index = cat_index[feature]\n",
        "    stop_index = cat_index[feature] + len(cat_values[feature])\n",
        "    return record[start_index:stop_index]\n",
        "\n",
        "def get_categorical_value(onehot, feature):\n",
        "    \"\"\"\n",
        "    Return the categorical value name of a feature given\n",
        "    a one-hot vector representing the feature.\n",
        "    \n",
        "    Args:\n",
        "        - onehot: a numpy array one-hot representation of the feature\n",
        "        - feature: a string, should be an element of `catcols`\n",
        "        \n",
        "    Examples:\n",
        "    \n",
        "    >>> get_categorical_value(np.array([0., 0., 0., 0., 0., 1., 0.]), \"work\")\n",
        "    'State-gov'\n",
        "    >>> get_categorical_value(np.array([0.1, 0., 1.1, 0.2, 0., 1., 0.]), \"work\")\n",
        "    'Private'\n",
        "    \"\"\"\n",
        "    # <----- TODO: WRITE YOUR CODE HERE ----->\n",
        "    # You may find the variables `cat_index` and `cat_values` \n",
        "    # (created above) useful.\n",
        "    return cat_values[feature][np.argmax(onehot)]"
      ],
      "execution_count": 0,
      "outputs": []
    },
    {
      "cell_type": "code",
      "metadata": {
        "id": "T_XXxZdh1pqv",
        "colab_type": "code",
        "colab": {}
      },
      "source": [
        "# more useful code, used during training, that depends on the function\n",
        "# you write above\n",
        "\n",
        "def get_feature(record, feature):\n",
        "    \"\"\"\n",
        "    Return the categorical feature value of a record\n",
        "    \"\"\"\n",
        "    onehot = get_onehot(record, feature)\n",
        "    return get_categorical_value(onehot, feature)\n",
        "\n",
        "def get_features(record):\n",
        "    \"\"\"\n",
        "    Return a dictionary of all categorical feature values of a record\n",
        "    \"\"\"\n",
        "    return { f: get_feature(record, f) for f in catcols }"
      ],
      "execution_count": 0,
      "outputs": []
    },
    {
      "cell_type": "markdown",
      "metadata": {
        "id": "1_5ZZR_J1pqy",
        "colab_type": "text"
      },
      "source": [
        "### Part (g) Train/Test Split [3 pt]\n",
        "\n",
        "Randomly split the data into approximately 70% training, 15% validation and 15% test.\n",
        "\n",
        "Report the number of items in your training, validation, and test set."
      ]
    },
    {
      "cell_type": "code",
      "metadata": {
        "id": "TE_fTJJf1pqz",
        "colab_type": "code",
        "colab": {}
      },
      "source": [
        "from torch.utils.data.sampler import SubsetRandomSampler\n",
        "\n",
        "def get_data_loader(dataset, batch_size=256):\n",
        "  np.random.seed(50)\n",
        "\n",
        "  num_samples = dataset.shape[0]\n",
        "\n",
        "  # Randomize indices list\n",
        "  indices = list(range(num_samples))\n",
        "  np.random.shuffle(indices)\n",
        "\n",
        "  # Allocate relevant loaders\n",
        "  num_train = int(num_samples * 0.7) # 70% of total\n",
        "  num_val = int(num_samples * 0.15) # 15% of total\n",
        "  # test is the remaining 20%\n",
        "\n",
        "  split1, split2 = num_train, num_train + num_val\n",
        "  train_indices, val_indices, test_indices = indices[:split1], indices[split1:split2], indices[split2:]\n",
        "\n",
        "  train_sampler = SubsetRandomSampler(train_indices)\n",
        "  val_sampler = SubsetRandomSampler(val_indices)\n",
        "  test_sampler = SubsetRandomSampler(test_indices)\n",
        "\n",
        "  train_loader = torch.utils.data.DataLoader(dataset, batch_size=batch_size,\n",
        "                                              num_workers=1, sampler=train_sampler)\n",
        "  val_loader = torch.utils.data.DataLoader(dataset, batch_size=batch_size,\n",
        "                                              num_workers=1, sampler=val_sampler)\n",
        "  test_loader = torch.utils.data.DataLoader(dataset, batch_size=batch_size,\n",
        "                                              num_workers=1, sampler=test_sampler)\n",
        "  return train_loader, val_loader, test_loader"
      ],
      "execution_count": 0,
      "outputs": []
    },
    {
      "cell_type": "code",
      "metadata": {
        "id": "dGTS7TZrv4HX",
        "colab_type": "code",
        "outputId": "191b4807-0d44-4211-e0f4-5894a9e712b0",
        "colab": {
          "base_uri": "https://localhost:8080/",
          "height": 67
        }
      },
      "source": [
        "train_loader, val_loader, test_loader = get_data_loader(datanp, batch_size=1)\n",
        "print(\"Number of training items:\", len(train_loader))\n",
        "print(\"Number of validation items:\", len(val_loader))\n",
        "print(\"Number of test items:\", len(test_loader))"
      ],
      "execution_count": 0,
      "outputs": [
        {
          "output_type": "stream",
          "text": [
            "Number of training items: 21502\n",
            "Number of validation items: 4607\n",
            "Number of test items: 4609\n"
          ],
          "name": "stdout"
        }
      ]
    },
    {
      "cell_type": "markdown",
      "metadata": {
        "id": "h9wJAKOI1pq3",
        "colab_type": "text"
      },
      "source": [
        "## Part 2. Model Setup [5 pt]\n",
        "\n",
        "### Part (a) [4 pt]\n",
        "\n",
        "Design a fully-connected autoencoder by modifying the `encoder` and `decoder`\n",
        "below.\n",
        "\n",
        "The input to this autoencoder will be the features of the `data`, with\n",
        "one categorical feature recorded as \"missing\". The output of the autoencoder\n",
        "should be the reconstruction of the same features, but with the missing\n",
        "value filled in.\n",
        "\n",
        "**Note**: Do not reduce the dimensionality of the input too much!\n",
        "The output of your embedding is expected to contain information \n",
        "about ~11 features."
      ]
    },
    {
      "cell_type": "code",
      "metadata": {
        "id": "f3F--tdn1pq3",
        "colab_type": "code",
        "colab": {}
      },
      "source": [
        "from torch import nn\n",
        "\n",
        "class AutoEncoder(nn.Module):\n",
        "    def __init__(self):\n",
        "        super(AutoEncoder, self).__init__()\n",
        "        self.name = \"ae\"\n",
        "        hidden1 = 46\n",
        "        hidden2 = 34\n",
        "        hidden3 = 22\n",
        "        encodim_dim = 11\n",
        "        self.encoder = nn.Sequential(\n",
        "            nn.Linear(57, hidden1),\n",
        "            nn.ReLU(),\n",
        "            nn.Linear(hidden1, hidden2),\n",
        "            nn.ReLU(),\n",
        "            nn.Linear(hidden2, hidden3),\n",
        "            nn.ReLU(),\n",
        "            nn.Linear(hidden3, encodim_dim)\n",
        "        )\n",
        "        self.decoder = nn.Sequential(\n",
        "            nn.Linear(encodim_dim, hidden3),\n",
        "            nn.ReLU(),\n",
        "            nn.Linear(hidden3, hidden2),\n",
        "            nn.ReLU(),\n",
        "            nn.Linear(hidden2, hidden1),\n",
        "            nn.ReLU(),\n",
        "            nn.Linear(hidden1, 57),\n",
        "            nn.Sigmoid() # get to the range (0, 1)\n",
        "        )\n",
        "\n",
        "    def forward(self, x):\n",
        "        x = self.encoder(x)\n",
        "        x = self.decoder(x)\n",
        "        return x"
      ],
      "execution_count": 0,
      "outputs": []
    },
    {
      "cell_type": "markdown",
      "metadata": {
        "id": "kuEzTSAv1pq6",
        "colab_type": "text"
      },
      "source": [
        "### Part (b) [1 pt]\n",
        "\n",
        "Explain why there is a sigmoid activation in the last step of the decoder.\n",
        "\n",
        "(**Note**: the values inside the data frame `data` and the training code in Part 3 might be helpful.)"
      ]
    },
    {
      "cell_type": "markdown",
      "metadata": {
        "id": "XDHvXVN9n6RX",
        "colab_type": "text"
      },
      "source": [
        "To normalize the data in the range (0, 1)"
      ]
    },
    {
      "cell_type": "markdown",
      "metadata": {
        "id": "jYwqFWVl1pq8",
        "colab_type": "text"
      },
      "source": [
        "## Part 3. Training [18] \n",
        "\n",
        "### Part (a) [6 pt]\n",
        "\n",
        "We will train our autoencoder in the following way:\n",
        "\n",
        "- In each iteration, we will hide one of the categorical features using the `zero_out_random_features` function\n",
        "- We will pass the data with one missing feature through the autoencoder, and obtain a reconstruction\n",
        "- We will check how close the reconstruction is compared to the original data -- including the value of the missing feature\n",
        "\n",
        "Complete the code to train the autoencoder, and plot the training and validation loss every few iterations.\n",
        "You may also want to plot training and validation \"accuracy\" every few iterations, as we will define in\n",
        "part (b). You may also want to checkpoint your model every few iterations or epochs.\n",
        "\n",
        "Use `nn.MSELoss()` as your loss function. (Side note: you might recognize that this loss function is not\n",
        "ideal for this problem, but we will use it anyway.)"
      ]
    },
    {
      "cell_type": "code",
      "metadata": {
        "id": "IDQA_-dS1pq9",
        "colab_type": "code",
        "colab": {}
      },
      "source": [
        "def zero_out_feature(records, feature):\n",
        "    \"\"\" Set the feature missing in records, by setting the appropriate\n",
        "    columns of records to 0\n",
        "    \"\"\"\n",
        "    start_index = cat_index[feature]\n",
        "    stop_index = cat_index[feature] + len(cat_values[feature])\n",
        "    records[:, start_index:stop_index] = 0\n",
        "    return records\n",
        "\n",
        "def zero_out_random_feature(records):\n",
        "    \"\"\" Set one random feature missing in records, by setting the \n",
        "    appropriate columns of records to 0\n",
        "    \"\"\"\n",
        "    return zero_out_feature(records, random.choice(catcols))\n",
        "\n",
        "def train(model, train_loader, valid_loader, batch_size=256, learning_rate=1e-4, num_epochs=5, plot=False):\n",
        "    \"\"\" Training loop. You should update this.\"\"\"\n",
        "    torch.manual_seed(42)\n",
        "    criterion = nn.MSELoss()\n",
        "    optimizer = torch.optim.Adam(model.parameters(), lr=learning_rate)\n",
        "\n",
        "    # Set up some numpy arrays to store the training/test loss/accuracy\n",
        "    train_acc = np.zeros(num_epochs)\n",
        "    train_loss = np.zeros(num_epochs)\n",
        "    val_acc = np.zeros(num_epochs)\n",
        "    val_loss = np.zeros(num_epochs)\n",
        "\n",
        "    print('Started Training')\n",
        "\n",
        "    for epoch in range(num_epochs):\n",
        "        total_train_loss = 0.0\n",
        "        total_val_loss = 0.0\n",
        "        total_epoch = 0\n",
        "\n",
        "        for data in train_loader:\n",
        "            datam = zero_out_random_feature(data.clone()) # zero out one categorical feature\n",
        "            recon = model(datam)\n",
        "            loss = criterion(recon, data)\n",
        "            loss.backward()\n",
        "            optimizer.step()\n",
        "            optimizer.zero_grad()\n",
        "            total_train_loss += loss.item()\n",
        "            total_epoch += 1\n",
        "        \n",
        "        train_acc[epoch] = get_accuracy(model, train_loader)\n",
        "        val_acc[epoch] = get_accuracy(model, valid_loader)\n",
        "\n",
        "        train_loss[epoch] = float(total_train_loss) / total_epoch\n",
        "\n",
        "        total_epoch = 0\n",
        "        for data in val_loader:\n",
        "            datam = zero_out_random_feature(data.clone()) # zero out one categorical feature\n",
        "            recon = model(datam)\n",
        "            loss = criterion(recon, data)\n",
        "            total_val_loss += loss.item()\n",
        "            total_epoch += 1\n",
        "\n",
        "        val_loss[epoch] = float(total_val_loss) / total_epoch\n",
        "\n",
        "        print((\"Epoch {}: Train acc: {}, Train loss: {} |\"+\n",
        "               \"Validation acc: {}, Validation loss: {}\").format(\n",
        "                   epoch + 1,\n",
        "                   train_acc[epoch],\n",
        "                   train_loss[epoch],\n",
        "                   val_acc[epoch],\n",
        "                   val_loss[epoch]))\n",
        "        # Save the current model (checkpoint) to a file\n",
        "        model_path = get_model_name(model.name, batch_size, learning_rate, epoch)\n",
        "        torch.save(model.state_dict(), model_path)\n",
        "    \n",
        "    print('Finished Training')\n",
        "    # Write the train/test loss/err into CSV file for plotting later\n",
        "    epochs = np.arange(1, num_epochs + 1)\n",
        "    np.savetxt(\"{}_train_acc.csv\".format(model_path), train_acc)\n",
        "    np.savetxt(\"{}_train_loss.csv\".format(model_path), train_loss)\n",
        "    np.savetxt(\"{}_val_acc.csv\".format(model_path), val_acc)\n",
        "    np.savetxt(\"{}_val_loss.csv\".format(model_path), val_loss)\n",
        "\n",
        "    if plot:\n",
        "      plot_training_curve(model_path)\n",
        "\n",
        "\n",
        "import matplotlib.pyplot as plt\n",
        "def plot_training_curve(path):\n",
        "    \"\"\" Plots the training curve for a model run, given the csv files\n",
        "    containing the train/validation error/loss.\n",
        "\n",
        "    Args:\n",
        "        path: The base path of the csv files produced during training\n",
        "    \"\"\"\n",
        "    train_acc = np.loadtxt(\"{}_train_acc.csv\".format(path))\n",
        "    val_acc = np.loadtxt(\"{}_val_acc.csv\".format(path))\n",
        "    train_loss = np.loadtxt(\"{}_train_loss.csv\".format(path))\n",
        "    val_loss = np.loadtxt(\"{}_val_loss.csv\".format(path))\n",
        "    params = path.split(\"_\")\n",
        "    for param in params:\n",
        "      if param.startswith(\"bs\"):\n",
        "        bs = param[2:]\n",
        "      if param.startswith(\"lr\"):\n",
        "        lr = param[2:]\n",
        "    title = \"Train vs Validation Accuracy (bs = \" + bs + \", lr = \" + lr + \")\"\n",
        "    plt.title(title)\n",
        "    n = len(train_acc) # number of epochs\n",
        "    plt.plot(range(1,n+1), train_acc, label=\"Train\")\n",
        "    plt.plot(range(1,n+1), val_acc, label=\"Validation\")\n",
        "    plt.xlabel(\"Epoch\")\n",
        "    plt.ylabel(\"Error\")\n",
        "    plt.legend(loc='best')\n",
        "    plt.show()\n",
        "    title = \"Train vs Validation Loss (bs = \" + bs + \", lr = \" + lr + \")\"\n",
        "    plt.title(title)\n",
        "    plt.plot(range(1,n+1), train_loss, label=\"Train\")\n",
        "    plt.plot(range(1,n+1), val_loss, label=\"Validation\")\n",
        "    plt.xlabel(\"Epoch\")\n",
        "    plt.ylabel(\"Loss\")\n",
        "    plt.legend(loc='best')\n",
        "    plt.show()\n",
        "\n",
        "def get_model_name(name, batch_size, learning_rate, epoch):\n",
        "    \"\"\" Generate a name for the model consisting of all the hyperparameter values\n",
        "\n",
        "    Args:\n",
        "        config: Configuration object containing the hyperparameters\n",
        "    Returns:\n",
        "        path: A string with the hyperparameter name and value concatenated\n",
        "    \"\"\"\n",
        "    path = \"model_{0}_bs{1}_lr{2}_epoch{3}\".format(name,\n",
        "                                                   batch_size,\n",
        "                                                   learning_rate,\n",
        "                                                   epoch)\n",
        "    return path"
      ],
      "execution_count": 0,
      "outputs": []
    },
    {
      "cell_type": "markdown",
      "metadata": {
        "id": "WKk01pwx1pq_",
        "colab_type": "text"
      },
      "source": [
        "### Part (b) [3 pt]\n",
        "\n",
        "While plotting training and validation loss is valuable, loss values are harder to compare\n",
        "than accuracy percentages. It would be nice to have a measure of \"accuracy\" in this problem.\n",
        "\n",
        "Since we will only be imputing missing categorical values, we will define an accuracy measure.\n",
        "For each record and for each categorical feature, we determine whether\n",
        "the model can predict the categorical feature given all the other features of the record.\n",
        "\n",
        "A function `get_accuracy` is written for you. It is up to you to figure out how to\n",
        "use the function. **You don't need to submit anything in this part.**\n",
        "To earn the marks, correctly plot the training and validation accuracy every few \n",
        "iterations as part of your training curve."
      ]
    },
    {
      "cell_type": "code",
      "metadata": {
        "id": "bHWLfCzM1pq_",
        "colab_type": "code",
        "colab": {}
      },
      "source": [
        "def get_accuracy(model, data_loader):\n",
        "    \"\"\"Return the \"accuracy\" of the autoencoder model across a data set.\n",
        "    That is, for each record and for each categorical feature, \n",
        "    we determine whether the model can successfully predict the value\n",
        "    of the categorical feature given all the other features of the \n",
        "    record. The returned \"accuracy\" measure is the percentage of times \n",
        "    that our model is successful.\n",
        "        \n",
        "    Args:\n",
        "       - model: the autoencoder model, an instance of nn.Module\n",
        "       - data_loader: an instance of torch.utils.data.DataLoader\n",
        "\n",
        "    Example (to illustrate how get_accuracy is intended to be called.\n",
        "             Depending on your variable naming this code might require\n",
        "             modification.)\n",
        "\n",
        "        >>> model = AutoEncoder()\n",
        "        >>> vdl = torch.utils.data.DataLoader(data_valid, batch_size=256, shuffle=True)\n",
        "        >>> get_accuracy(model, vdl)\n",
        "    \"\"\"\n",
        "    total = 0\n",
        "    acc = 0\n",
        "    for col in catcols:\n",
        "        for item in data_loader: # minibatches\n",
        "            inp = item.detach().numpy()\n",
        "            out = model(zero_out_feature(item.clone(), col)).detach().numpy()\n",
        "            for i in range(out.shape[0]): # record in minibatch\n",
        "                acc += int(get_feature(out[i], col) == get_feature(inp[i], col))\n",
        "                total += 1\n",
        "    return acc / total"
      ],
      "execution_count": 0,
      "outputs": []
    },
    {
      "cell_type": "markdown",
      "metadata": {
        "id": "SxCTlXoV1prB",
        "colab_type": "text"
      },
      "source": [
        "### Part (c) [4 pt]\n",
        "\n",
        "Run your updated training code, using reasonable initial hyperparameters.\n",
        "\n",
        "Include your training curve in your submission."
      ]
    },
    {
      "cell_type": "code",
      "metadata": {
        "id": "nj5b71l-1prC",
        "colab_type": "code",
        "outputId": "2a088a02-f40b-4b49-9726-a07f6a451690",
        "colab": {
          "base_uri": "https://localhost:8080/",
          "height": 1000
        }
      },
      "source": [
        "# Hyperparameters\n",
        "bs = 256\n",
        "lr = 0.001\n",
        "ne = 30\n",
        "\n",
        "# Model\n",
        "model = AutoEncoder()\n",
        "\n",
        "# Get data loaders\n",
        "train_loader, val_loader, test_loader = get_data_loader(datanp, bs)\n",
        "\n",
        "# Train and plot\n",
        "train(model, train_loader, val_loader, bs, lr, ne, True)"
      ],
      "execution_count": 0,
      "outputs": [
        {
          "output_type": "stream",
          "text": [
            "Started Training\n",
            "Epoch 1: Train acc: 0.4598486962453105, Train loss: 0.14238446303421542 |Validation acc: 0.45861370378409666, Validation loss: 0.07242536255055004\n",
            "Epoch 2: Train acc: 0.4660651722320404, Train loss: 0.07099875284447557 |Validation acc: 0.4644019969611461, Validation loss: 0.07028887586461173\n",
            "Epoch 3: Train acc: 0.4598486962453105, Train loss: 0.0694662933903081 |Validation acc: 0.45861370378409666, Validation loss: 0.06808824919992024\n",
            "Epoch 4: Train acc: 0.5519719095898056, Train loss: 0.0607862923116911 |Validation acc: 0.5539758338759858, Validation loss: 0.055332970495025315\n",
            "Epoch 5: Train acc: 0.5756208724769789, Train loss: 0.053830805234611034 |Validation acc: 0.5757542869546343, Validation loss: 0.052269850547115006\n",
            "Epoch 6: Train acc: 0.5767758038011968, Train loss: 0.0512615768682389 |Validation acc: 0.577490774907749, Validation loss: 0.049603292925490275\n",
            "Epoch 7: Train acc: 0.5962081046724336, Train loss: 0.048507287832243104 |Validation acc: 0.5942044714564793, Validation loss: 0.04717247105307049\n",
            "Epoch 8: Train acc: 0.6017502247852913, Train loss: 0.04488621412643364 |Validation acc: 0.5988351059981188, Validation loss: 0.04310773892535104\n",
            "Epoch 9: Train acc: 0.6018587418224661, Train loss: 0.04217306506775674 |Validation acc: 0.5992330511540409, Validation loss: 0.04091216872135798\n",
            "Epoch 10: Train acc: 0.602347068489753, Train loss: 0.041355806890697705 |Validation acc: 0.6014036610954345, Validation loss: 0.04071948532429007\n",
            "Epoch 11: Train acc: 0.6036802778036152, Train loss: 0.04040370353808006 |Validation acc: 0.602091020910209, Validation loss: 0.0406215942154328\n",
            "Epoch 12: Train acc: 0.6062769354788702, Train loss: 0.03966458088585308 |Validation acc: 0.6032125027132624, Validation loss: 0.04020800503591696\n",
            "Epoch 13: Train acc: 0.6078969398195516, Train loss: 0.03926171424488226 |Validation acc: 0.606034295637074, Validation loss: 0.038491216798623405\n",
            "Epoch 14: Train acc: 0.6101292902985769, Train loss: 0.038421004301025755 |Validation acc: 0.6077707835901889, Validation loss: 0.03831253180073367\n",
            "Epoch 15: Train acc: 0.610919914426565, Train loss: 0.03762080063599916 |Validation acc: 0.6080240214166848, Validation loss: 0.03798176969091097\n",
            "Epoch 16: Train acc: 0.6090828760115338, Train loss: 0.03723007245432763 |Validation acc: 0.6070834237754142, Validation loss: 0.0371524915099144\n",
            "Epoch 17: Train acc: 0.6087805785508325, Train loss: 0.036385245709901766 |Validation acc: 0.6067940091165618, Validation loss: 0.036254903922478356\n",
            "Epoch 18: Train acc: 0.6125476699841875, Train loss: 0.03585330308193252 |Validation acc: 0.6109905216699226, Validation loss: 0.035759064472383924\n",
            "Epoch 19: Train acc: 0.6050212383344185, Train loss: 0.03559300143803869 |Validation acc: 0.6034295637074018, Validation loss: 0.03536419984367159\n",
            "Epoch 20: Train acc: 0.6079744519889623, Train loss: 0.03420123069857558 |Validation acc: 0.6059257651400043, Validation loss: 0.03331163163400359\n",
            "Epoch 21: Train acc: 0.6070288035221529, Train loss: 0.03301564211558018 |Validation acc: 0.6030677953838361, Validation loss: 0.03278832396285401\n",
            "Epoch 22: Train acc: 0.6030601804483304, Train loss: 0.03176240660693674 |Validation acc: 0.5987265755010491, Validation loss: 0.031640485446486205\n",
            "Epoch 23: Train acc: 0.6050599944191238, Train loss: 0.03138419422542765 |Validation acc: 0.6015483684248607, Validation loss: 0.03074809991651111\n",
            "Epoch 24: Train acc: 0.6024400830930456, Train loss: 0.030162481258490255 |Validation acc: 0.5980753925186311, Validation loss: 0.03039234410971403\n",
            "Epoch 25: Train acc: 0.6038353021424364, Train loss: 0.029636348509007975 |Validation acc: 0.5994862889805369, Validation loss: 0.029103684859971207\n",
            "Epoch 26: Train acc: 0.6050754968530059, Train loss: 0.029120189736464193 |Validation acc: 0.600463063454164, Validation loss: 0.02850771291802327\n",
            "Epoch 27: Train acc: 0.606904784051096, Train loss: 0.028854394797235727 |Validation acc: 0.60292308805441, Validation loss: 0.02867328727410899\n",
            "Epoch 28: Train acc: 0.6080984714600193, Train loss: 0.02758656082940953 |Validation acc: 0.6031039722161927, Validation loss: 0.02853921976768308\n",
            "Epoch 29: Train acc: 0.6095712026788206, Train loss: 0.027359627608564637 |Validation acc: 0.6044063381810288, Validation loss: 0.028299764005674258\n",
            "Epoch 30: Train acc: 0.6072458375965026, Train loss: 0.026688536850824243 |Validation acc: 0.6029954417191231, Validation loss: 0.02646075054589245\n",
            "Finished Training\n"
          ],
          "name": "stdout"
        },
        {
          "output_type": "display_data",
          "data": {
            "image/png": "[encoded data removed]",
            "text/plain": [
              "<Figure size 432x288 with 1 Axes>"
            ]
          },
          "metadata": {
            "tags": []
          }
        },
        {
          "output_type": "display_data",
          "data": {
            "image/png": "[encoded data removed]",
            "text/plain": [
              "<Figure size 432x288 with 1 Axes>"
            ]
          },
          "metadata": {
            "tags": []
          }
        }
      ]
    },
    {
      "cell_type": "markdown",
      "metadata": {
        "id": "h9xTwIf51prF",
        "colab_type": "text"
      },
      "source": [
        "### Part (d) [5 pt]\n",
        "\n",
        "Tune your hyperparameters, training at least 4 different models (4 sets of hyperparameters).\n",
        "\n",
        "Do not include all your training curves. Instead, explain what hyperparameters\n",
        "you tried, what their effect was, and what your thought process was as you \n",
        "chose the next set of hyperparameters to try."
      ]
    },
    {
      "cell_type": "code",
      "metadata": {
        "id": "PhTKt9iL1prG",
        "colab_type": "code",
        "outputId": "54a2a5e5-e505-42ce-9c4a-c48c63c0e0b0",
        "colab": {
          "base_uri": "https://localhost:8080/",
          "height": 1000
        }
      },
      "source": [
        "# Hyperparameters\n",
        "bs = 128\n",
        "lr = 0.001\n",
        "ne = 40\n",
        "\n",
        "# Model\n",
        "model = AutoEncoder()\n",
        "\n",
        "# Get data loaders\n",
        "train_loader, val_loader, test_loader = get_data_loader(datanp, bs)\n",
        "\n",
        "# Train and plot\n",
        "train(model, train_loader, val_loader, bs, lr, ne, True)"
      ],
      "execution_count": 0,
      "outputs": [
        {
          "output_type": "stream",
          "text": [
            "Started Training\n",
            "Epoch 1: Train acc: 0.4666155086348557, Train loss: 0.10656808964198544 |Validation acc: 0.4655958324289125, Validation loss: 0.07029560456673305\n",
            "Epoch 2: Train acc: 0.5483753449291539, Train loss: 0.06568776268423313 |Validation acc: 0.5484046016930757, Validation loss: 0.05710950866341591\n",
            "Epoch 3: Train acc: 0.576930828140018, Train loss: 0.054633680620186385 |Validation acc: 0.5769119455900441, Validation loss: 0.052975287867916956\n",
            "Epoch 4: Train acc: 0.577333891420953, Train loss: 0.051290793233506736 |Validation acc: 0.5782143115548802, Validation loss: 0.04957438757022222\n",
            "Epoch 5: Train acc: 0.5942005394846991, Train loss: 0.04823378759569356 |Validation acc: 0.5924318066710079, Validation loss: 0.04608661143316163\n",
            "Epoch 6: Train acc: 0.6048429603447741, Train loss: 0.044061658726561634 |Validation acc: 0.6041169235221764, Validation loss: 0.04295847068230311\n",
            "Epoch 7: Train acc: 0.6046879360059529, Train loss: 0.041932360357826666 |Validation acc: 0.6020548440778526, Validation loss: 0.04127351204968161\n",
            "Epoch 8: Train acc: 0.6080132080736675, Train loss: 0.04063442030123302 |Validation acc: 0.6041892771868895, Validation loss: 0.04000811682393154\n",
            "Epoch 9: Train acc: 0.613384801413822, Train loss: 0.039302940014749765 |Validation acc: 0.6088560885608856, Validation loss: 0.03872209487275945\n",
            "Epoch 10: Train acc: 0.6127802064924193, Train loss: 0.03813544423541143 |Validation acc: 0.60512987482816, Validation loss: 0.03811041058765517\n",
            "Epoch 11: Train acc: 0.61585743961802, Train loss: 0.03727348204258652 |Validation acc: 0.6117864119817669, Validation loss: 0.0365544974596964\n",
            "Epoch 12: Train acc: 0.6164000248038942, Train loss: 0.03644966790896086 |Validation acc: 0.6108819911728529, Validation loss: 0.035911285835835666\n",
            "Epoch 13: Train acc: 0.6147645180293306, Train loss: 0.0355062075846252 |Validation acc: 0.6091093263873815, Validation loss: 0.03515141271054745\n",
            "Epoch 14: Train acc: 0.619624531051375, Train loss: 0.034753978529590224 |Validation acc: 0.6136314304319513, Validation loss: 0.034585127089586526\n",
            "Epoch 15: Train acc: 0.6173766781384677, Train loss: 0.034188545952063235 |Validation acc: 0.6127270096230374, Validation loss: 0.03383543776969115\n",
            "Epoch 16: Train acc: 0.6151443276594425, Train loss: 0.03333666558111353 |Validation acc: 0.6082410824108241, Validation loss: 0.03330555480594436\n",
            "Epoch 17: Train acc: 0.6135088208848789, Train loss: 0.032807981806053294 |Validation acc: 0.6083496129078938, Validation loss: 0.032707871351805\n",
            "Epoch 18: Train acc: 0.6194307506278486, Train loss: 0.032351709979896746 |Validation acc: 0.6135590767672383, Validation loss: 0.0324431295092735\n",
            "Epoch 19: Train acc: 0.6175006976095246, Train loss: 0.03192382620736247 |Validation acc: 0.609398741046234, Validation loss: 0.031738517340272665\n",
            "Epoch 20: Train acc: 0.6155628933742597, Train loss: 0.031428071160224225 |Validation acc: 0.6067578322842052, Validation loss: 0.031334974699550204\n",
            "Epoch 21: Train acc: 0.6184308436424518, Train loss: 0.03093115700453165 |Validation acc: 0.6107372838434266, Validation loss: 0.0312855513766408\n",
            "Epoch 22: Train acc: 0.6181595510495148, Train loss: 0.030443740465367835 |Validation acc: 0.6108819911728529, Validation loss: 0.03049358668633633\n",
            "Epoch 23: Train acc: 0.6143924596161597, Train loss: 0.030119225283020308 |Validation acc: 0.606359887128283, Validation loss: 0.0302352931143509\n",
            "Epoch 24: Train acc: 0.6168108393017704, Train loss: 0.029659424198880083 |Validation acc: 0.6076984299254757, Validation loss: 0.030073001463380124\n",
            "Epoch 25: Train acc: 0.6178727560226955, Train loss: 0.029289907432116923 |Validation acc: 0.6099052166992258, Validation loss: 0.029405655856761668\n",
            "Epoch 26: Train acc: 0.6215855889374632, Train loss: 0.02903362610820858 |Validation acc: 0.6128717169524637, Validation loss: 0.028714684666030936\n",
            "Epoch 27: Train acc: 0.620911233063591, Train loss: 0.028655743847290676 |Validation acc: 0.6128717169524637, Validation loss: 0.02862511295825243\n",
            "Epoch 28: Train acc: 0.6254069388894057, Train loss: 0.028224096644581073 |Validation acc: 0.6166341075175458, Validation loss: 0.028426889640589554\n",
            "Epoch 29: Train acc: 0.6232831054475553, Train loss: 0.02781226867366405 |Validation acc: 0.6145358512408654, Validation loss: 0.027803992852568626\n",
            "Epoch 30: Train acc: 0.6250813877778811, Train loss: 0.027405929773868548 |Validation acc: 0.6159829245351277, Validation loss: 0.027775285972489253\n",
            "Epoch 31: Train acc: 0.6193919945431433, Train loss: 0.027281249795729916 |Validation acc: 0.6124014181318284, Validation loss: 0.02763091953885224\n",
            "Epoch 32: Train acc: 0.6288329767773541, Train loss: 0.02704866118507371 |Validation acc: 0.6227479921858042, Validation loss: 0.026842915194316044\n",
            "Epoch 33: Train acc: 0.6300344154032183, Train loss: 0.026844435061017673 |Validation acc: 0.6228926995152304, Validation loss: 0.026984163508233096\n",
            "Epoch 34: Train acc: 0.625065885343999, Train loss: 0.02657295178089823 |Validation acc: 0.6171767600028941, Validation loss: 0.026761131568087473\n",
            "Epoch 35: Train acc: 0.6248798561374136, Train loss: 0.026417640736326575 |Validation acc: 0.6155849793792055, Validation loss: 0.026712870949672327\n",
            "Epoch 36: Train acc: 0.6209422379313552, Train loss: 0.026217349339276552 |Validation acc: 0.6125823022936112, Validation loss: 0.026458179474704795\n",
            "Epoch 37: Train acc: 0.6206864477723002, Train loss: 0.026057843828485125 |Validation acc: 0.6120034729759062, Validation loss: 0.02638917887169454\n",
            "Epoch 38: Train acc: 0.6257944997364586, Train loss: 0.02624638926326519 |Validation acc: 0.6175385283264597, Validation loss: 0.026478727348148823\n",
            "Epoch 39: Train acc: 0.6249806219576474, Train loss: 0.025708030864951156 |Validation acc: 0.6180450039794516, Validation loss: 0.026351462687469192\n",
            "Epoch 40: Train acc: 0.6244225343378911, Train loss: 0.025760679272934794 |Validation acc: 0.6161638086969105, Validation loss: 0.02631527977064252\n",
            "Finished Training\n"
          ],
          "name": "stdout"
        },
        {
          "output_type": "display_data",
          "data": {
            "image/png": "[encoded data removed]",
            "text/plain": [
              "<Figure size 432x288 with 1 Axes>"
            ]
          },
          "metadata": {
            "tags": []
          }
        },
        {
          "output_type": "display_data",
          "data": {
            "image/png": "[encoded data removed]",
            "text/plain": [
              "<Figure size 432x288 with 1 Axes>"
            ]
          },
          "metadata": {
            "tags": []
          }
        }
      ]
    },
    {
      "cell_type": "markdown",
      "metadata": {
        "id": "iigqorKAOeF-",
        "colab_type": "text"
      },
      "source": [
        "I tried multiple different batch sizes ranging between 64 to 256, finding that larger batch sizes yield better results (lower batch sizes have wildly fluctuating accuracies). I also tried learning rates around the order of magnitude of 1e-3. Too high a learning rate again caused accuracy to fluctuate and not learn. I started with training at 30 epochs, and found that the model did not complete learning by this time (I assumed this was due to a low learning rate, but higher learning rates caused the issue as explained previously), so I increased it to 40 epochs (higher epochs didn't really yield promising results). I also changed the architecture of the model as the training seemed to be getting bottlenecked, and increased the number of hidden layers from 2 to 3. However, this did not show significant improvement, and training accuracy mostly stopped increasing after ~60%."
      ]
    },
    {
      "cell_type": "markdown",
      "metadata": {
        "id": "ymCsZH291prI",
        "colab_type": "text"
      },
      "source": [
        "## Part 4. Testing [12 pt]\n",
        "\n",
        "### Part (a) [2 pt]\n",
        "\n",
        "Compute and report the test accuracy."
      ]
    },
    {
      "cell_type": "code",
      "metadata": {
        "id": "0OkSbup91prJ",
        "colab_type": "code",
        "outputId": "d458cc8e-85cb-48e8-82b4-98ea2376bca3",
        "colab": {
          "base_uri": "https://localhost:8080/",
          "height": 34
        }
      },
      "source": [
        "test_acc = get_accuracy(model, test_loader)\n",
        "print(\"Test accuracy: {0:.2f}%\".format(100 * test_acc))"
      ],
      "execution_count": 0,
      "outputs": [
        {
          "output_type": "stream",
          "text": [
            "Test accuracy: 62.09%\n"
          ],
          "name": "stdout"
        }
      ]
    },
    {
      "cell_type": "markdown",
      "metadata": {
        "id": "UEe9yt6L1prM",
        "colab_type": "text"
      },
      "source": [
        "### Part (b) [4 pt]\n",
        "\n",
        "Based on the test accuracy alone, it is difficult to assess whether our model\n",
        "is actually performing well. We don't know whether a high accuracy is due to\n",
        "the simplicity of the problem, or if a poor accuracy is a result of the inherent\n",
        "difficulty of the problem.\n",
        "\n",
        "It is therefore very important to be able to compare our model to at least one\n",
        "alternative. In particular, we consider a simple **baseline**\n",
        "model that is not very computationally expensive. Our neural network\n",
        "should at least outperform this baseline model. If our network is not much\n",
        "better than the baseline, then it is not doing well.\n",
        "\n",
        "For our data imputation problem, consider the following baseline model:\n",
        "to predict a missing feature, the baseline model will look at the **most common value** of the feature in the training set. \n",
        "\n",
        "For example, if the feature \"marriage\" is missing, then this model's prediction will be the most common value for \"marriage\" in the training set, which happens to be \"Married-civ-spouse\".\n",
        "\n",
        "What would be the test accuracy of this baseline model?\n"
      ]
    },
    {
      "cell_type": "code",
      "metadata": {
        "id": "p45VHp011prN",
        "colab_type": "code",
        "colab": {}
      },
      "source": [
        "def get_baseline_model_prediction(train_loader, feature):\n",
        "  feature_start = cat_index[feature]\n",
        "  feature_stop = cat_index[feature] + len(cat_values[feature])\n",
        "  avg_record = train_loader.dataset[:, feature_start:feature_stop]\n",
        "  avg_record = avg_record.sum(axis=0) / len(train_loader.dataset)\n",
        "  return get_categorical_value(avg_record, feature)"
      ],
      "execution_count": 0,
      "outputs": []
    },
    {
      "cell_type": "code",
      "metadata": {
        "id": "_2aiVEY4aN3N",
        "colab_type": "code",
        "outputId": "88b2de6a-ff23-4b28-d4fc-f6cf40c1e65f",
        "colab": {
          "base_uri": "https://localhost:8080/",
          "height": 34
        }
      },
      "source": [
        "# Check that get_baseline_model works\n",
        "pred = get_baseline_model_prediction(train_loader, \"marriage\")\n",
        "pred"
      ],
      "execution_count": 0,
      "outputs": [
        {
          "output_type": "execute_result",
          "data": {
            "text/plain": [
              "'Married-civ-spouse'"
            ]
          },
          "metadata": {
            "tags": []
          },
          "execution_count": 184
        }
      ]
    },
    {
      "cell_type": "code",
      "metadata": {
        "id": "P5OKIl_SaWwS",
        "colab_type": "code",
        "outputId": "5508149d-bc0a-4313-cc99-ba4c2dc8c622",
        "colab": {
          "base_uri": "https://localhost:8080/",
          "height": 34
        }
      },
      "source": [
        "# Testing accuracy for baseline model\n",
        "total = 0\n",
        "acc = 0\n",
        "for col in catcols:\n",
        "    out = get_baseline_model_prediction(train_loader, col)\n",
        "    for item in test_loader:\n",
        "        inp = item.detach().numpy()\n",
        "        for i in range(inp.shape[0]): # record in minibatch\n",
        "            acc += int(out == get_feature(inp[i], col))\n",
        "            total += 1\n",
        "acc = acc / total\n",
        "print(\"Baseline model testing accuracy: {0:.2f}%\".format(100 * acc))"
      ],
      "execution_count": 0,
      "outputs": [
        {
          "output_type": "stream",
          "text": [
            "Baseline model testing accuracy: 45.68%\n"
          ],
          "name": "stdout"
        }
      ]
    },
    {
      "cell_type": "markdown",
      "metadata": {
        "id": "QlHu0wxh1prP",
        "colab_type": "text"
      },
      "source": [
        "### Part (c) [1 pt]\n",
        "\n",
        "How does your test accuracy from part (a) compared to your basline test accuracy in part (b)?"
      ]
    },
    {
      "cell_type": "markdown",
      "metadata": {
        "id": "iXb_qiTPc-Lx",
        "colab_type": "text"
      },
      "source": [
        "The test accuracy from part (a) is 17% higher than the baseline test accuracy."
      ]
    },
    {
      "cell_type": "markdown",
      "metadata": {
        "id": "DfQPgu1Q1prS",
        "colab_type": "text"
      },
      "source": [
        "### Part (d) [1 pt]\n",
        "\n",
        "Look at the first item in your test data. \n",
        "Do you think it is reasonable for a human\n",
        "to be able to guess this person's education level\n",
        "based on their other features? Explain."
      ]
    },
    {
      "cell_type": "code",
      "metadata": {
        "id": "3qbQ1vvT1prT",
        "colab_type": "code",
        "outputId": "29c17362-abaa-4f66-efd0-02adc11766de",
        "colab": {
          "base_uri": "https://localhost:8080/",
          "height": 202
        }
      },
      "source": [
        "item = test_loader.dataset[0]\n",
        "\n",
        "categories = contcols + catcols\n",
        "for cat in categories:\n",
        "  if cat in contcols:\n",
        "    val = (item[contcols.index(cat)] * (max_vals[cat] - min_vals[cat])) + min_vals[cat]\n",
        "    val = int(round(val))\n",
        "    print(cat + \":\", val)\n",
        "  else:\n",
        "    val = get_feature(item, cat)\n",
        "    print(cat + \":\", val)"
      ],
      "execution_count": 0,
      "outputs": [
        {
          "output_type": "stream",
          "text": [
            "age: 39\n",
            "yredu: 13\n",
            "capgain: 2174\n",
            "caploss: 0\n",
            "workhr: 40\n",
            "work: State-gov\n",
            "marriage: Never-married\n",
            "occupation: Adm-clerical\n",
            "edu: Bachelors\n",
            "relationship: Not-in-family\n",
            "sex: Male\n"
          ],
          "name": "stdout"
        }
      ]
    },
    {
      "cell_type": "markdown",
      "metadata": {
        "id": "S_F5TumEg9rb",
        "colab_type": "text"
      },
      "source": [
        "I don't think it is reasonable for a human to guess this person's education level based on the features. A 39-year old man in a 40-hr/wk job could have a wide range of education qualifications. Guesses such as highschool grad, bachelors degree, masters degree etc are all reasonable predictions."
      ]
    },
    {
      "cell_type": "markdown",
      "metadata": {
        "id": "p_d5uuAY1prZ",
        "colab_type": "text"
      },
      "source": [
        "### Part (e) [2 pt]\n",
        "\n",
        "What is your model's prediction of this person's education\n",
        "level, given their other features?\n"
      ]
    },
    {
      "cell_type": "code",
      "metadata": {
        "id": "kBY5gKXR1pra",
        "colab_type": "code",
        "outputId": "b5c3ebbb-1222-4f0c-c0f2-b881618cbaaa",
        "colab": {
          "base_uri": "https://localhost:8080/",
          "height": 34
        }
      },
      "source": [
        "feature = \"edu\"\n",
        "itemnp = item.reshape([1, len(item)])\n",
        "inp = zero_out_feature(itemnp.copy(), feature)\n",
        "model_pred = model(torch.from_numpy(inp)).detach().numpy()\n",
        "model_pred = get_feature(model_pred[0], feature)\n",
        "model_pred"
      ],
      "execution_count": 0,
      "outputs": [
        {
          "output_type": "execute_result",
          "data": {
            "text/plain": [
              "'Some-college'"
            ]
          },
          "metadata": {
            "tags": []
          },
          "execution_count": 222
        }
      ]
    },
    {
      "cell_type": "markdown",
      "metadata": {
        "id": "fdLNA0ce1prd",
        "colab_type": "text"
      },
      "source": [
        "### Part (f) [2 pt]\n",
        "\n",
        "What is the baseline model's prediction\n",
        "of this person's education level?"
      ]
    },
    {
      "cell_type": "code",
      "metadata": {
        "id": "TXgoM9qk1prd",
        "colab_type": "code",
        "outputId": "710bb005-dfd4-4aea-d53d-1e5afc3a1ebd",
        "colab": {
          "base_uri": "https://localhost:8080/",
          "height": 34
        }
      },
      "source": [
        "get_baseline_model_prediction(train_loader, feature)"
      ],
      "execution_count": 0,
      "outputs": [
        {
          "output_type": "execute_result",
          "data": {
            "text/plain": [
              "'HS-grad'"
            ]
          },
          "metadata": {
            "tags": []
          },
          "execution_count": 224
        }
      ]
    }
  ]
}