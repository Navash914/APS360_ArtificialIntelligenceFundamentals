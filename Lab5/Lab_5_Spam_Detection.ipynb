{
  "nbformat": 4,
  "nbformat_minor": 0,
  "metadata": {
    "colab": {
      "name": "Lab 5 - Spam Detection.ipynb",
      "provenance": [],
      "collapsed_sections": [],
      "include_colab_link": true
    },
    "kernelspec": {
      "display_name": "Python 3",
      "language": "python",
      "name": "python3"
    },
    "language_info": {
      "codemirror_mode": {
        "name": "ipython",
        "version": 3
      },
      "file_extension": ".py",
      "mimetype": "text/x-python",
      "name": "python",
      "nbconvert_exporter": "python",
      "pygments_lexer": "ipython3",
      "version": "3.7.4"
    }
  },
  "cells": [
    {
      "cell_type": "markdown",
      "metadata": {
        "id": "view-in-github",
        "colab_type": "text"
      },
      "source": [
        "<a href=\"https://colab.research.google.com/github/Navash914/APS360_ArtificialIntelligenceFundamentals/blob/master/Lab5/Lab_5_Spam_Detection.ipynb\" target=\"_parent\"><img src=\"https://colab.research.google.com/assets/colab-badge.svg\" alt=\"Open In Colab\"/></a>"
      ]
    },
    {
      "cell_type": "markdown",
      "metadata": {
        "colab_type": "text",
        "id": "_bphECiUa9zw"
      },
      "source": [
        "# Lab 5: Spam Detection\n",
        "\n",
        "**Deadline**: Thursday, March 12, 11:59pm\n",
        "\n",
        "**Late Penalty**: There is a penalty-free grace period of one hour past the deadline. Any work that is submitted between 1 hour and 24 hours past the deadline will receive a 20% grade deduction. No other late work is accepted. Quercus submission time will be used, not your local computer time. You can submit your labs as many times as you want before the deadline, so please submit often and early.\n",
        "\n",
        "**TA**: Karthik Bhaskar \n",
        "\n",
        "In this assignment, we will build a recurrent neural network to classify a SMS text message\n",
        "as \"spam\" or \"not spam\". In the process, you will\n",
        "    \n",
        "1. Clean and process text data for machine learning.\n",
        "2. Understand and implement a character-level recurrent neural network.\n",
        "3. Use torchtext to build recurrent neural network models.\n",
        "4. Understand batching for a recurrent neural network, and use torchtext to implement RNN batching.\n",
        "\n",
        "### What to submit\n",
        "\n",
        "Submit a PDF file containing all your code, outputs, and write-up. You can produce a PDF of your Google Colab file by going to File > Print and then save as PDF. The Colab instructions have more information (.html files are also acceptable).\n",
        "\n",
        "Do not submit any other files produced by your code.\n",
        "\n",
        "Include a link to your colab file in your submission."
      ]
    },
    {
      "cell_type": "markdown",
      "metadata": {
        "colab_type": "text",
        "id": "rWiUqJJTa9z6"
      },
      "source": [
        "## Colab Link\n",
        "\n",
        "Include a link to your Colab file here. If you would like the TA to look at your\n",
        "Colab file in case your solutions are cut off, **please make sure that your Colab\n",
        "file is publicly accessible at the time of submission**.\n",
        "\n",
        "Colab Link: https://colab.research.google.com/drive/1bfT5949Jf-LhS374tHjuiXGhfQaN-sBH"
      ]
    },
    {
      "cell_type": "code",
      "metadata": {
        "colab_type": "code",
        "id": "HgfNOUaPa9z8",
        "colab": {}
      },
      "source": [
        "import torch\n",
        "import torch.nn as nn\n",
        "import torch.nn.functional as F\n",
        "import torch.optim as optim\n",
        "import numpy as np"
      ],
      "execution_count": 0,
      "outputs": []
    },
    {
      "cell_type": "markdown",
      "metadata": {
        "colab_type": "text",
        "id": "M0jLI9LBa90C"
      },
      "source": [
        "## Part 1. Data Cleaning [15 pt]\n",
        "\n",
        "We will be using the \"SMS Spam Collection Data Set\" available at http://archive.ics.uci.edu/ml/datasets/SMS+Spam+Collection\n",
        "\n",
        "There is a link to download the \"Data Folder\" at the very top of the webpage. Download the zip file, unzip it, and upload the file `SMSSpamCollection` to Colab.    "
      ]
    },
    {
      "cell_type": "markdown",
      "metadata": {
        "colab_type": "text",
        "id": "sSuF7C_Ga90E"
      },
      "source": [
        "### Part (a) [2 pt]\n",
        "\n",
        "Open up the file in Python, and print out one example of a spam SMS, and one example of a non-spam SMS.\n",
        "\n",
        "What is the label value for a spam message, and what is the label value for a non-spam message?"
      ]
    },
    {
      "cell_type": "code",
      "metadata": {
        "colab_type": "code",
        "id": "I_IfXHeTa90F",
        "outputId": "990f3310-8e42-46cd-feba-515f3fee5dee",
        "colab": {
          "base_uri": "https://localhost:8080/",
          "height": 104
        }
      },
      "source": [
        "found_ham = False\n",
        "found_spam = False\n",
        "for line in open('SMSSpamCollection'):\n",
        "  if found_ham and found_spam:\n",
        "    break\n",
        "  msg_type = line.split(\"\\t\", 1)[0];\n",
        "  if (not found_ham and msg_type == \"ham\"):\n",
        "    print(line)\n",
        "    found_ham = True\n",
        "  if (not found_spam and msg_type == \"spam\"):\n",
        "    print(line)\n",
        "    found_spam = True"
      ],
      "execution_count": 114,
      "outputs": [
        {
          "output_type": "stream",
          "text": [
            "ham\tGo until jurong point, crazy.. Available only in bugis n great world la e buffet... Cine there got amore wat...\n",
            "\n",
            "spam\tFree entry in 2 a wkly comp to win FA Cup final tkts 21st May 2005. Text FA to 87121 to receive entry question(std txt rate)T&C's apply 08452810075over18's\n",
            "\n"
          ],
          "name": "stdout"
        }
      ]
    },
    {
      "cell_type": "markdown",
      "metadata": {
        "id": "PpQ0ciaB-Zau",
        "colab_type": "text"
      },
      "source": [
        "A spam message is labelled as \"spam\" at the start of the message.<br>A non-spam message is labelled as \"ham\" at the start of the message."
      ]
    },
    {
      "cell_type": "markdown",
      "metadata": {
        "colab_type": "text",
        "id": "AukA6vMVa90d"
      },
      "source": [
        "### Part (b) [1 pt]\n",
        "\n",
        "How many spam messages are there in the data set?\n",
        "How many non-spam messages are there in the data set?\n"
      ]
    },
    {
      "cell_type": "code",
      "metadata": {
        "colab_type": "code",
        "id": "LgsqyemVa90e",
        "outputId": "9cbe6790-3407-4990-bc74-8c073f2cbde2",
        "colab": {
          "base_uri": "https://localhost:8080/",
          "height": 50
        }
      },
      "source": [
        "ham_count = 0\n",
        "spam_count = 0\n",
        "for line in open('SMSSpamCollection'):\n",
        "  msg_type = line.split(\"\\t\", 1)[0];\n",
        "  if (msg_type == \"ham\"):\n",
        "    ham_count += 1\n",
        "  if (msg_type == \"spam\"):\n",
        "    spam_count += 1\n",
        "\n",
        "print(\"Number of spam messages: {0}\\nNumber of non-spam messages: {1}\".format(spam_count, ham_count))"
      ],
      "execution_count": 115,
      "outputs": [
        {
          "output_type": "stream",
          "text": [
            "Number of spam messages: 747\n",
            "Number of non-spam messages: 4827\n"
          ],
          "name": "stdout"
        }
      ]
    },
    {
      "cell_type": "markdown",
      "metadata": {
        "colab_type": "text",
        "id": "d1WXxVt6a90h"
      },
      "source": [
        "### Part (c) [4 pt]\n",
        "\n",
        "We will be using the package `torchtext` to load, process, and batch the data.\n",
        "A tutorial to torchtext is available below. This tutorial uses the same\n",
        "Sentiment140 data set that we explored during lecture.\n",
        "\n",
        "https://medium.com/@sonicboom8/sentiment-analysis-torchtext-55fb57b1fab8\n",
        "\n",
        "Unlike what we did during lecture, we will be building a **character level RNN**.\n",
        "That is, we will treat each **character** as a token in our sequence,\n",
        "rather than each **word**.\n",
        "\n",
        "Identify two advantage and two disadvantage of modelling SMS text\n",
        "messages as a sequence of characters rather than a sequence of words."
      ]
    },
    {
      "cell_type": "markdown",
      "metadata": {
        "id": "vMckb7NK_czE",
        "colab_type": "text"
      },
      "source": [
        "Advantages<br>\n",
        "* Can work with unknown words.\n",
        "* Can have a deeper understanding of the message as character level is more in-depth than word level.\n",
        "\n",
        "Disadvantages:<br>\n",
        "* More expensive computations for training and making predictions.\n",
        "* Model may not pick up on the 'meaning' of words as it looks simply at the characters that the word consists of."
      ]
    },
    {
      "cell_type": "markdown",
      "metadata": {
        "colab_type": "text",
        "id": "ie_D0bv9a90k"
      },
      "source": [
        "### Part (d) [1 pt]\n",
        "\n",
        "We will be loading our data set using `torchtext.data.TabularDataset`. The\n",
        "constructor will read directly from the `SMSSpamCollection` file. \n",
        "\n",
        "For the data file to be read successfuly, we\n",
        "need to specify the **fields** (columns) in the file. \n",
        "In our case, the dataset has two fields: \n",
        "\n",
        "- a text field containing the sms messages,\n",
        "- a label field which will be converted into a binary label.\n",
        "\n",
        "Split the dataset into `train`, `valid`, and `test`. Use a 60-20-20 split.\n",
        "You may find this torchtext API page helpful:\n",
        "https://torchtext.readthedocs.io/en/latest/data.html#dataset\n",
        "\n",
        "Hint: There is a `Dataset` method that can perform the random split for you."
      ]
    },
    {
      "cell_type": "code",
      "metadata": {
        "colab_type": "code",
        "id": "P_Y6Puz9a90l",
        "colab": {}
      },
      "source": [
        "import torchtext\n",
        "\n",
        "text_field = torchtext.data.Field(sequential=True,      # text sequence\n",
        "                                  tokenize=lambda x: x, # because are building a character-RNN\n",
        "                                  include_lengths=True, # to track the length of sequences, for batching\n",
        "                                  batch_first=True,\n",
        "                                  use_vocab=True)       # to turn each character into an integer index\n",
        "label_field = torchtext.data.Field(sequential=False,    # not a sequence\n",
        "                                   use_vocab=False,     # don't need to track vocabulary\n",
        "                                   is_target=True,      \n",
        "                                   batch_first=True,\n",
        "                                   preprocessing=lambda x: int(x == 'spam')) # convert text to 0 and 1\n",
        "\n",
        "fields = [('label', label_field), ('sms', text_field)]\n",
        "dataset = torchtext.data.TabularDataset(\"SMSSpamCollection\", # name of the file\n",
        "                                        \"tsv\",               # fields are separated by a tab\n",
        "                                        fields)\n",
        "\n",
        "train, valid, test = dataset.split([0.6, 0.2, 0.2])"
      ],
      "execution_count": 0,
      "outputs": []
    },
    {
      "cell_type": "markdown",
      "metadata": {
        "colab_type": "text",
        "id": "v6nP0Ks_a90o"
      },
      "source": [
        "### Part (e) [2 pt]\n",
        "\n",
        "You saw in part (b) that there are many more non-spam messages than spam messages.\n",
        "This **imbalance** in our training data will be problematic for training.\n",
        "We can fix this disparity by duplicating non-spam messages in the training set,\n",
        "so that the training set is roughly **balanced**.\n",
        "\n",
        "Explain why having a balanced training set is helpful for training our neural network.\n",
        "\n",
        "Note: if you are not sure, try removing the below code and train your mode."
      ]
    },
    {
      "cell_type": "code",
      "metadata": {
        "colab_type": "code",
        "id": "FWvx9_rka90p",
        "colab": {}
      },
      "source": [
        "# save the original training examples\n",
        "old_train_examples = train.examples\n",
        "# get all the spam messages in `train`\n",
        "train_spam = []\n",
        "for item in train.examples:\n",
        "    if item.label == 1:\n",
        "        train_spam.append(item)\n",
        "# duplicate each spam message 6 more times\n",
        "train.examples = old_train_examples + train_spam * 6"
      ],
      "execution_count": 0,
      "outputs": []
    },
    {
      "cell_type": "markdown",
      "metadata": {
        "colab_type": "text",
        "id": "j7eUmBEva90r"
      },
      "source": [
        "### Part (f) [1 pt]\n",
        "\n",
        "We need to build the vocabulary on the training data by running the below code.\n",
        "This finds all the possible character tokens in the training set.\n",
        "\n",
        "Explain what the variables `text_field.vocab.stoi` and `text_field.vocab.itos` represent."
      ]
    },
    {
      "cell_type": "code",
      "metadata": {
        "colab_type": "code",
        "id": "8CQM8flKa90s",
        "colab": {}
      },
      "source": [
        "text_field.build_vocab(train)\n",
        "#text_field.vocab.stoi\n",
        "#text_field.vocab.itos"
      ],
      "execution_count": 0,
      "outputs": []
    },
    {
      "cell_type": "markdown",
      "metadata": {
        "id": "taKIK4xCEb70",
        "colab_type": "text"
      },
      "source": [
        "`text_field.vocab.stoi` is a dictionary that represents the mapping of each character to an integer value. `text_field.vocab.itos` is a list where the value of each index corresponds to the character that maps to that integer."
      ]
    },
    {
      "cell_type": "markdown",
      "metadata": {
        "colab_type": "text",
        "id": "TC8WVE8Ua90u"
      },
      "source": [
        "### Part (g) [2 pt]\n",
        "\n",
        "The tokens `<unk>` and `<pad>` were not in our SMS text messages.\n",
        "What do these two values represent?"
      ]
    },
    {
      "cell_type": "markdown",
      "metadata": {
        "id": "LeoQW8XhEzgn",
        "colab_type": "text"
      },
      "source": [
        "`<unk>` represents an unknown value and `<pad>` represents padding to get inputs to the same size (for batching)."
      ]
    },
    {
      "cell_type": "markdown",
      "metadata": {
        "colab_type": "text",
        "id": "Ff5CNk7Qa90y"
      },
      "source": [
        "### Part (h) [2 pt]\n",
        "\n",
        "Since text sequences are of variable length, `torchtext` provides a `BucketIterator` data loader,\n",
        "which batches similar length sequences together. The iterator also provides functionalities to\n",
        "pad sequences automatically.\n",
        "\n",
        "Take a look at 10 batches in `train_iter`. What is the maximum length of the\n",
        "input sequence in each batch? How many `<pad>` tokens are used in each of the 10\n",
        "batches?"
      ]
    },
    {
      "cell_type": "code",
      "metadata": {
        "colab_type": "code",
        "id": "V8N8qLWOa90y",
        "colab": {}
      },
      "source": [
        "train_iter = torchtext.data.BucketIterator(train,\n",
        "                                           batch_size=32,\n",
        "                                           sort_key=lambda x: len(x.sms), # to minimize padding\n",
        "                                           sort_within_batch=True,        # sort within each batch\n",
        "                                           repeat=False)                  # repeat the iterator for many epochs"
      ],
      "execution_count": 0,
      "outputs": []
    },
    {
      "cell_type": "code",
      "metadata": {
        "id": "LsbDKeQvsMmU",
        "colab_type": "code",
        "colab": {}
      },
      "source": [
        "def get_iter(data, batch_size):\n",
        "  data_iter = torchtext.data.BucketIterator(data,\n",
        "                                           batch_size=batch_size,\n",
        "                                           sort_key=lambda x: len(x.sms), # to minimize padding\n",
        "                                           sort_within_batch=True,        # sort within each batch\n",
        "                                           repeat=False)                  # repeat the iterator for many epochs\n",
        "\n",
        "  return data_iter                                           "
      ],
      "execution_count": 0,
      "outputs": []
    },
    {
      "cell_type": "code",
      "metadata": {
        "colab_type": "code",
        "id": "Qwz-rOaha902",
        "outputId": "aee8bdc2-17f4-47ce-b906-ddc41ef9f30d",
        "colab": {
          "base_uri": "https://localhost:8080/",
          "height": 857
        }
      },
      "source": [
        "for (i, batch) in enumerate(train_iter, 0):\n",
        "    if i >= 10:\n",
        "      break\n",
        "    print(\"Batch {0}:\".format(i+1))\n",
        "    print(\"Batch Size:\", len(batch))\n",
        "    max_inp_len = int(batch.sms[1][0])\n",
        "    print(\"Maximum input sequence length:\", max_inp_len)\n",
        "    num_pads = 0\n",
        "    for inp_len in batch.sms[1]:\n",
        "      num_pads += max_inp_len - int(inp_len)\n",
        "    print(\"Number of <pad> tokens used:\", num_pads)\n",
        "    print()"
      ],
      "execution_count": 121,
      "outputs": [
        {
          "output_type": "stream",
          "text": [
            "Batch 1:\n",
            "Batch Size: 32\n",
            "Maximum input sequence length: 46\n",
            "Number of <pad> tokens used: 24\n",
            "\n",
            "Batch 2:\n",
            "Batch Size: 32\n",
            "Maximum input sequence length: 160\n",
            "Number of <pad> tokens used: 0\n",
            "\n",
            "Batch 3:\n",
            "Batch Size: 32\n",
            "Maximum input sequence length: 80\n",
            "Number of <pad> tokens used: 51\n",
            "\n",
            "Batch 4:\n",
            "Batch Size: 32\n",
            "Maximum input sequence length: 90\n",
            "Number of <pad> tokens used: 78\n",
            "\n",
            "Batch 5:\n",
            "Batch Size: 32\n",
            "Maximum input sequence length: 138\n",
            "Number of <pad> tokens used: 36\n",
            "\n",
            "Batch 6:\n",
            "Batch Size: 32\n",
            "Maximum input sequence length: 147\n",
            "Number of <pad> tokens used: 29\n",
            "\n",
            "Batch 7:\n",
            "Batch Size: 32\n",
            "Maximum input sequence length: 31\n",
            "Number of <pad> tokens used: 20\n",
            "\n",
            "Batch 8:\n",
            "Batch Size: 32\n",
            "Maximum input sequence length: 25\n",
            "Number of <pad> tokens used: 13\n",
            "\n",
            "Batch 9:\n",
            "Batch Size: 32\n",
            "Maximum input sequence length: 152\n",
            "Number of <pad> tokens used: 19\n",
            "\n",
            "Batch 10:\n",
            "Batch Size: 32\n",
            "Maximum input sequence length: 160\n",
            "Number of <pad> tokens used: 27\n",
            "\n"
          ],
          "name": "stdout"
        }
      ]
    },
    {
      "cell_type": "markdown",
      "metadata": {
        "colab_type": "text",
        "id": "y7HnqP6_a904"
      },
      "source": [
        "## Part 2. Model Building [8 pt]\n",
        "\n",
        "Build a recurrent neural network model, using an architecture of your choosing. \n",
        "Use the one-hot embedding of each character as input to your recurrent network.\n",
        "Use one or more fully-connected layers to make the prediction based on your\n",
        "recurrent network output.\n",
        "\n",
        "Instead of using the RNN output value for the final token, another often used\n",
        "strategy is to max-pool over the entire output array. That is, instead of calling\n",
        "something like:\n",
        "\n",
        "```\n",
        "out, _ = self.rnn(x)\n",
        "self.fc(out[:, -1, :])\n",
        "```\n",
        "\n",
        "where `self.rnn` is an `nn.RNN`, `nn.GRU`, or `nn.LSTM` module, and `self.fc` is a \n",
        "fully-connected \n",
        "layer, we use:\n",
        "\n",
        "```\n",
        "out, _ = self.rnn(x)\n",
        "self.fc(torch.max(out, dim=1)[0])\n",
        "```\n",
        "\n",
        "This works reasonably in practice. An even better alternative is to concatenate the\n",
        "max-pooling and average-pooling of the RNN outputs:\n",
        "\n",
        "```\n",
        "out, _ = self.rnn(x)\n",
        "out = torch.cat([torch.max(out, dim=1)[0], \n",
        "                 torch.mean(out, dim=1)], dim=1)\n",
        "self.fc(out)\n",
        "```\n",
        "\n",
        "We encourage you to try out all these options. The way you pool the RNN outputs\n",
        "is one of the \"hyperparameters\" that you can choose to tune later on."
      ]
    },
    {
      "cell_type": "code",
      "metadata": {
        "colab_type": "code",
        "id": "jHl1p_Wwa905",
        "colab": {}
      },
      "source": [
        "# You might find this code helpful for obtaining\n",
        "# PyTorch one-hot vectors.\n",
        "\n",
        "stoi = text_field.vocab.stoi\n",
        "inp_len = len(stoi)\n",
        "ident = torch.eye(inp_len)"
      ],
      "execution_count": 0,
      "outputs": []
    },
    {
      "cell_type": "code",
      "metadata": {
        "id": "Z_iHzaYTo4w5",
        "colab_type": "code",
        "colab": {}
      },
      "source": [
        "def get_one_hot(ch):\n",
        "  return torch.stack([torch.stack([ident[ch] for ch in sentence]) for sentence in ch])"
      ],
      "execution_count": 0,
      "outputs": []
    },
    {
      "cell_type": "code",
      "metadata": {
        "colab_type": "code",
        "id": "4LTQ7zFka909",
        "colab": {}
      },
      "source": [
        "class RNN(nn.Module):\n",
        "  def __init__(self, name, inp_size, hidden_size, rnn_type, max_pool):\n",
        "      super(RNN, self).__init__()\n",
        "      self.name = name\n",
        "      self.hidden_size = hidden_size\n",
        "      self.max_pool = max_pool\n",
        "\n",
        "      self.rnn = rnn_type(inp_size, hidden_size, batch_first=True)\n",
        "      self.fc = nn.Linear(hidden_size, 2)\n",
        "\n",
        "  def forward(self, x):\n",
        "      x = get_one_hot(x)  # now we have one-hot representation of batch\n",
        "\n",
        "      h0 = torch.zeros(1, x.size(0), self.hidden_size)\n",
        "\n",
        "      out,_ = self.rnn(x, h0)\n",
        "\n",
        "      if self.max_pool:\n",
        "        out = self.fc(torch.max(out, dim=1)[0])\n",
        "      else:\n",
        "        out = self.fc(out[:, -1, :])\n",
        "\n",
        "      return out"
      ],
      "execution_count": 0,
      "outputs": []
    },
    {
      "cell_type": "markdown",
      "metadata": {
        "colab_type": "text",
        "id": "vKIYPl_Ba90_"
      },
      "source": [
        "## Part 3. Training [16 pt]\n",
        "\n",
        "### Part (a) [4 pt]\n",
        "\n",
        "Complete the `get_accuracy` function, which will compute the\n",
        "accuracy (rate) of your model across a dataset (e.g. validation set).\n",
        "You may modify `torchtext.data.BucketIterator` to make your computation\n",
        "faster."
      ]
    },
    {
      "cell_type": "code",
      "metadata": {
        "colab_type": "code",
        "id": "pvNfhGD6a91A",
        "colab": {}
      },
      "source": [
        "def get_accuracy(model, data_iter):\n",
        "    \"\"\" Compute the accuracy of the `model` across a dataset `data`\n",
        "    \n",
        "    Example usage:\n",
        "    \n",
        "    >>> model = MyRNN() # to be defined\n",
        "    >>> get_accuracy(model, valid) # the variable `valid` is from above\n",
        "    \"\"\"\n",
        "\n",
        "    acc = 0\n",
        "    num_items = 0\n",
        "    for batch in data_iter:\n",
        "      out = model(batch.sms[0])\n",
        "      pred = out.max(1, keepdim=True)[1]\n",
        "      acc += pred.eq(batch.label.view_as(pred)).sum().item()\n",
        "      num_items += len(batch)\n",
        "\n",
        "    return acc / num_items"
      ],
      "execution_count": 0,
      "outputs": []
    },
    {
      "cell_type": "markdown",
      "metadata": {
        "colab_type": "text",
        "id": "TlxlcAC1a91C"
      },
      "source": [
        "### Part (b) [4 pt]\n",
        "\n",
        "Train your model. Plot the training curve of your final model. \n",
        "Your training curve should have the training/validation loss and\n",
        "accuracy plotted periodically.\n",
        "\n",
        "Note: Not all of your batches will have the same batch size.\n",
        "In particular, if your training set does not divide evenly by\n",
        "your batch size, there will be a batch that is smaller than\n",
        "the rest. "
      ]
    },
    {
      "cell_type": "code",
      "metadata": {
        "colab_type": "code",
        "id": "CVtf7CJCa91D",
        "colab": {}
      },
      "source": [
        "import matplotlib.pyplot as plt"
      ],
      "execution_count": 0,
      "outputs": []
    },
    {
      "cell_type": "code",
      "metadata": {
        "id": "GdsyqVUwrSpD",
        "colab_type": "code",
        "colab": {}
      },
      "source": [
        "def get_loss(model, data_iter):\n",
        "  criterion = nn.CrossEntropyLoss()\n",
        "\n",
        "  total_loss = 0.0\n",
        "  num_iter = 0\n",
        "  for batch in data_iter:\n",
        "    out = model(batch.sms[0])\n",
        "    loss = criterion(out, batch.label)\n",
        "    total_loss += loss.item()\n",
        "    num_iter += 1\n",
        "  \n",
        "  return total_loss/num_iter"
      ],
      "execution_count": 0,
      "outputs": []
    },
    {
      "cell_type": "code",
      "metadata": {
        "id": "lxHIqYgmxE0o",
        "colab_type": "code",
        "colab": {}
      },
      "source": [
        "def train_model(model, train_loader, val_loader, batch_size=32, learning_rate=0.001, num_epochs=5, weight_decay=0.0005):\n",
        "  criterion = nn.CrossEntropyLoss()\n",
        "  optimizer = torch.optim.Adam(model.parameters(), lr=learning_rate, weight_decay=weight_decay)\n",
        "\n",
        "  epochs, train_acc, val_acc, train_losses, val_losses = [], [], [], [], []\n",
        "  \n",
        "  for epoch in range(num_epochs):\n",
        "      total_loss = 0.0\n",
        "      total_epoch = 0\n",
        "      for batch in train_loader:\n",
        "          optimizer.zero_grad() \n",
        "\n",
        "          labels = batch.label\n",
        "          sentences = batch.sms[0]\n",
        "          \n",
        "          out = model(sentences)\n",
        "          loss = criterion(out, labels)\n",
        "\n",
        "          total_loss += loss.item()\n",
        "          loss.backward()\n",
        "          optimizer.step()\n",
        "\n",
        "          total_epoch += 1\n",
        "      \n",
        "      train_losses.append(total_loss/total_epoch)\n",
        "      train_acc.append(get_accuracy(model, train_iter))\n",
        "\n",
        "      val_losses.append(get_loss(model, val_loader))\n",
        "      val_acc.append(get_accuracy(model, val_loader))\n",
        "\n",
        "      epochs.append(epoch)\n",
        "      \n",
        "      model_path = \"model_{}_bs_{}_lr_{}_epoch_{}\".format(model.name, batch_size, \n",
        "                                                          learning_rate, epoch)\n",
        "\n",
        "      torch.save(model.state_dict(), model_path)\n",
        "\n",
        "      print((\"Epoch {}: Train acc - {:.4f}, Train loss - {:.4f} || \" +\n",
        "                        \"Val acc - {:.4f}, Val loss - {:.4f}\").format(\n",
        "                                                        epoch,\n",
        "                                                        train_acc[epoch],\n",
        "                                                        train_losses[epoch],\n",
        "                                                        val_acc[epoch],\n",
        "                                                        val_losses[epoch]))\n",
        "  # Acc\n",
        "  plt.title(\"Accuracy\")\n",
        "  plt.plot(epochs, train_acc, label = \"train\")\n",
        "  plt.plot(epochs, val_acc, label = \"validation\")\n",
        "  plt.xlabel(\"epoch\")\n",
        "  plt.ylabel(\"accuracy\")\n",
        "  plt.show()\n",
        "\n",
        "  # Loss\n",
        "  plt.title(\"Train & Val Loss\")\n",
        "  plt.plot(epochs, train_losses, label = \"train\")\n",
        "  plt.plot(epochs, val_losses, label = \"validation\")\n",
        "  plt.xlabel(\"Epoch\")\n",
        "  plt.ylabel(\"Loss\")\n",
        "  plt.show()"
      ],
      "execution_count": 0,
      "outputs": []
    },
    {
      "cell_type": "markdown",
      "metadata": {
        "colab_type": "text",
        "id": "fE3eRkDAa91F"
      },
      "source": [
        "### Part (c) [4 pt]\n",
        "\n",
        "Choose at least 4 hyperparameters to tune. Explain how you tuned the hyperparameters.\n",
        "You don't need to include your training curve for every model you trained.\n",
        "Instead, explain what hyperparemters you tuned, what the best validation accuracy was,\n",
        "and the reasoning behind the hyperparameter decisions you made.\n",
        "\n",
        "For this assignment, you should tune more than just your learning rate and epoch. \n",
        "Choose at least 2 hyperparameters that are unrelated to the optimizer."
      ]
    },
    {
      "cell_type": "code",
      "metadata": {
        "colab_type": "code",
        "id": "A2GEWfDca91G",
        "colab": {
          "base_uri": "https://localhost:8080/",
          "height": 1000
        },
        "outputId": "ba89269b-bcc6-4e47-da5b-89e6fe2f14e9"
      },
      "source": [
        "bs = 512\n",
        "lr = 0.001\n",
        "ne = 30\n",
        "rnn_type = nn.RNN # nn.RNN or nn.GRU or nn.LSTM\n",
        "max_pool = True\n",
        "\n",
        "model = RNN(\"rnn\", inp_len, inp_len, rnn_type, max_pool)\n",
        "\n",
        "train_iter = get_iter(train, bs)\n",
        "val_iter = get_iter(valid, bs)\n",
        "\n",
        "train_model(model, train_iter, val_iter, bs, lr, ne)"
      ],
      "execution_count": 139,
      "outputs": [
        {
          "output_type": "stream",
          "text": [
            "Epoch 0: Train acc - 0.4852, Train loss - 0.7084 || Val acc - 0.8565, Val loss - 0.6335\n",
            "Epoch 1: Train acc - 0.5211, Train loss - 0.6715 || Val acc - 0.1570, Val loss - 0.7008\n",
            "Epoch 2: Train acc - 0.9091, Train loss - 0.6194 || Val acc - 0.8529, Val loss - 0.6455\n",
            "Epoch 3: Train acc - 0.8763, Train loss - 0.5614 || Val acc - 0.8000, Val loss - 0.6203\n",
            "Epoch 4: Train acc - 0.9485, Train loss - 0.4618 || Val acc - 0.9677, Val loss - 0.4662\n",
            "Epoch 5: Train acc - 0.9382, Train loss - 0.3436 || Val acc - 0.9695, Val loss - 0.3423\n",
            "Epoch 6: Train acc - 0.9326, Train loss - 0.2891 || Val acc - 0.9740, Val loss - 0.1783\n",
            "Epoch 7: Train acc - 0.9509, Train loss - 0.3645 || Val acc - 0.9274, Val loss - 0.3959\n",
            "Epoch 8: Train acc - 0.9549, Train loss - 0.2642 || Val acc - 0.9614, Val loss - 0.2734\n",
            "Epoch 9: Train acc - 0.9540, Train loss - 0.2169 || Val acc - 0.9677, Val loss - 0.1969\n",
            "Epoch 10: Train acc - 0.9572, Train loss - 0.1752 || Val acc - 0.9605, Val loss - 0.1955\n",
            "Epoch 11: Train acc - 0.9550, Train loss - 0.1515 || Val acc - 0.9668, Val loss - 0.1517\n",
            "Epoch 12: Train acc - 0.9622, Train loss - 0.1370 || Val acc - 0.9650, Val loss - 0.1465\n",
            "Epoch 13: Train acc - 0.9697, Train loss - 0.1254 || Val acc - 0.9650, Val loss - 0.1378\n",
            "Epoch 14: Train acc - 0.9706, Train loss - 0.1169 || Val acc - 0.9614, Val loss - 0.1357\n",
            "Epoch 15: Train acc - 0.9662, Train loss - 0.1142 || Val acc - 0.9686, Val loss - 0.1082\n",
            "Epoch 16: Train acc - 0.9666, Train loss - 0.1085 || Val acc - 0.9695, Val loss - 0.1019\n",
            "Epoch 17: Train acc - 0.9739, Train loss - 0.1092 || Val acc - 0.9632, Val loss - 0.1163\n",
            "Epoch 18: Train acc - 0.9719, Train loss - 0.1016 || Val acc - 0.9578, Val loss - 0.1282\n",
            "Epoch 19: Train acc - 0.9744, Train loss - 0.0958 || Val acc - 0.9578, Val loss - 0.1210\n",
            "Epoch 20: Train acc - 0.9708, Train loss - 0.0910 || Val acc - 0.9704, Val loss - 0.0898\n",
            "Epoch 21: Train acc - 0.9764, Train loss - 0.0891 || Val acc - 0.9516, Val loss - 0.1426\n",
            "Epoch 22: Train acc - 0.9751, Train loss - 0.0802 || Val acc - 0.9722, Val loss - 0.0860\n",
            "Epoch 23: Train acc - 0.9759, Train loss - 0.0967 || Val acc - 0.9704, Val loss - 0.0907\n",
            "Epoch 24: Train acc - 0.9749, Train loss - 0.0912 || Val acc - 0.9713, Val loss - 0.0844\n",
            "Epoch 25: Train acc - 0.9773, Train loss - 0.0821 || Val acc - 0.9704, Val loss - 0.0909\n",
            "Epoch 26: Train acc - 0.9799, Train loss - 0.0753 || Val acc - 0.9623, Val loss - 0.1088\n",
            "Epoch 27: Train acc - 0.9821, Train loss - 0.0724 || Val acc - 0.9614, Val loss - 0.1085\n",
            "Epoch 28: Train acc - 0.9711, Train loss - 0.0709 || Val acc - 0.9758, Val loss - 0.0775\n",
            "Epoch 29: Train acc - 0.9786, Train loss - 0.0859 || Val acc - 0.9704, Val loss - 0.0861\n"
          ],
          "name": "stdout"
        },
        {
          "output_type": "display_data",
          "data": {
            "image/png": "[encoded data removed]",
            "text/plain": [
              "<Figure size 432x288 with 1 Axes>"
            ]
          },
          "metadata": {
            "tags": []
          }
        },
        {
          "output_type": "display_data",
          "data": {
            "image/png": "[encoded data removed]",
            "text/plain": [
              "<Figure size 432x288 with 1 Axes>"
            ]
          },
          "metadata": {
            "tags": []
          }
        }
      ]
    },
    {
      "cell_type": "markdown",
      "metadata": {
        "id": "AU6gC7rP-_oB",
        "colab_type": "text"
      },
      "source": [
        "I tuned the batch size and learning rates till I got a decent accuracy. After that, I tried max pooling and that significantly improved the training accuracy as well. The best validation accuracy was 97.5%"
      ]
    },
    {
      "cell_type": "markdown",
      "metadata": {
        "colab_type": "text",
        "id": "v7DY56rKa91I"
      },
      "source": [
        "### Part (d) [2 pt]\n",
        "\n",
        "Before we deploy a machine learning model, we usually want to have a better understanding\n",
        "of how our model performs beyond its validation accuracy. An important metric to track is\n",
        "*how well our model performs in certain subsets of the data*.\n",
        "\n",
        "In particular, what is the model's error rate amongst data with negative labels?\n",
        "This is called the **false positive rate**.\n",
        "\n",
        "What about the model's error rate amongst data with positive labels?\n",
        "This is called the **false negative rate**.\n",
        "\n",
        "Report your final model's false positive and false negative rate across the\n",
        "validation set."
      ]
    },
    {
      "cell_type": "code",
      "metadata": {
        "colab_type": "code",
        "id": "7ggbQSdba91J",
        "colab": {}
      },
      "source": [
        "def false_positive_rate(model, data):\n",
        "  data_nospam = torchtext.data.Dataset(\n",
        "    [e for e in data.examples if e.label == 0],\n",
        "    data.fields)\n",
        "  \n",
        "  false_positive_rate = 1.0 - get_accuracy(model, get_iter(data_nospam, 512))\n",
        "  print(\"False positive rate: {0:.2f}%\".format(100.0 * false_positive_rate))\n",
        "\n",
        "def false_negative_rate(model, data):\n",
        "  data_spam = torchtext.data.Dataset(\n",
        "    [e for e in data.examples if e.label == 1],\n",
        "    data.fields)\n",
        "  \n",
        "  false_negative_rate = 1.0 - get_accuracy(model, get_iter(data_spam, 512))\n",
        "  print(\"False negative rate: {0:.2f}%\".format(100.0 * false_negative_rate))\n",
        "\n",
        "def false_pos_neg_rate(model, data):\n",
        "  false_positive_rate(model, data)\n",
        "  false_negative_rate(model, data)"
      ],
      "execution_count": 0,
      "outputs": []
    },
    {
      "cell_type": "code",
      "metadata": {
        "id": "4e1-UJcS_YPy",
        "colab_type": "code",
        "colab": {
          "base_uri": "https://localhost:8080/",
          "height": 34
        },
        "outputId": "4f407428-d384-4404-f8ff-e69688dcaa5b"
      },
      "source": [
        "best_model = RNN(\"best\", inp_len, inp_len, nn.RNN, True)\n",
        "\n",
        "model_path = \"model_{}_bs_{}_lr_{}_epoch_{}\".format(\"rnn\", 512, 0.001, 28)\n",
        "state = torch.load(model_path)\n",
        "best_model.load_state_dict(state)"
      ],
      "execution_count": 141,
      "outputs": [
        {
          "output_type": "execute_result",
          "data": {
            "text/plain": [
              "<All keys matched successfully>"
            ]
          },
          "metadata": {
            "tags": []
          },
          "execution_count": 141
        }
      ]
    },
    {
      "cell_type": "code",
      "metadata": {
        "id": "EKnJrs3nO5jY",
        "colab_type": "code",
        "colab": {
          "base_uri": "https://localhost:8080/",
          "height": 50
        },
        "outputId": "5e35fcb8-7dd7-4357-efc3-346ca6f929d7"
      },
      "source": [
        "false_pos_neg_rate(best_model, valid)"
      ],
      "execution_count": 144,
      "outputs": [
        {
          "output_type": "stream",
          "text": [
            "False positive rate: 1.26%\n",
            "False negative rate: 9.38%\n"
          ],
          "name": "stdout"
        }
      ]
    },
    {
      "cell_type": "markdown",
      "metadata": {
        "colab_type": "text",
        "id": "N1iRteb3a91O"
      },
      "source": [
        "### Part (e) [2 pt]\n",
        "\n",
        "The impact of a false positive vs a false negative can be drastically different.\n",
        "If our spam detection algorithm was deployed on your phone, what is the impact\n",
        "of a false positive on the phone's user? What is the impact of a false negative?"
      ]
    },
    {
      "cell_type": "markdown",
      "metadata": {
        "id": "y9uJkcbjNLQc",
        "colab_type": "text"
      },
      "source": [
        "A false negative can lead to the user receiving spam messages in their inbox. This is relatively harmless as the user can simply ignore/delete them. A false positive, however, can lead to the user missing important messages that our algorithm detected as spam, which can be much more harmful than a false negative."
      ]
    },
    {
      "cell_type": "markdown",
      "metadata": {
        "colab_type": "text",
        "id": "Gznefulsa91V"
      },
      "source": [
        "## Part 4. Evaluation [11 pt]\n",
        "\n",
        "### Part (a) [1 pt]\n",
        "\n",
        "Report the final test accuracy of your model."
      ]
    },
    {
      "cell_type": "code",
      "metadata": {
        "colab_type": "code",
        "id": "D5L5D-A1a91W",
        "colab": {
          "base_uri": "https://localhost:8080/",
          "height": 34
        },
        "outputId": "ede1f3f6-356a-4b27-9767-2495d7d1c8bc"
      },
      "source": [
        "test_iter = get_iter(test, 512)\n",
        "test_acc = get_accuracy(best_model, test_iter)\n",
        "print(\"Testing accuracy: {0:.2f}%\".format(100.0 * test_acc))"
      ],
      "execution_count": 145,
      "outputs": [
        {
          "output_type": "stream",
          "text": [
            "Testing accuracy: 97.76%\n"
          ],
          "name": "stdout"
        }
      ]
    },
    {
      "cell_type": "markdown",
      "metadata": {
        "colab_type": "text",
        "id": "6Hjmd8rca91Y"
      },
      "source": [
        "### Part (b) [3 pt]\n",
        "\n",
        "Report the false positive rate and false negative rate of your model across the test set."
      ]
    },
    {
      "cell_type": "code",
      "metadata": {
        "colab_type": "code",
        "id": "GFiAKztJa91Z",
        "colab": {
          "base_uri": "https://localhost:8080/",
          "height": 50
        },
        "outputId": "98694919-9461-4182-d132-23c90f60d929"
      },
      "source": [
        "false_pos_neg_rate(best_model, test)"
      ],
      "execution_count": 147,
      "outputs": [
        {
          "output_type": "stream",
          "text": [
            "False positive rate: 1.24%\n",
            "False negative rate: 8.84%\n"
          ],
          "name": "stdout"
        }
      ]
    },
    {
      "cell_type": "markdown",
      "metadata": {
        "colab_type": "text",
        "id": "0jGHtQFpa91b"
      },
      "source": [
        "### Part (c) [3 pt]\n",
        "\n",
        "What is your model's prediction of the **probability** that\n",
        "the SMS message \"machine learning is sooo cool!\" is spam?\n",
        "\n",
        "Hint: To begin, use `text_field.vocab.stoi` to look up the index\n",
        "of each character in the vocabulary."
      ]
    },
    {
      "cell_type": "code",
      "metadata": {
        "colab_type": "code",
        "id": "h_2nSJq8a91b",
        "colab": {
          "base_uri": "https://localhost:8080/",
          "height": 34
        },
        "outputId": "e8eaf4da-c612-4169-fd3b-2d22e56235b2"
      },
      "source": [
        "msg = \"machine learning is sooo cool!\"\n",
        "\n",
        "out = best_model(torch.IntTensor([[text_field.vocab.stoi[c] for c in msg]]))\n",
        "out = out.detach().numpy()\n",
        "\n",
        "print(\"The model is {:.2f}% certain that the msg is spam\".format(100.0 * out[0][1]))"
      ],
      "execution_count": 154,
      "outputs": [
        {
          "output_type": "stream",
          "text": [
            "The model is -170.87% certain that the msg is spam\n"
          ],
          "name": "stdout"
        }
      ]
    },
    {
      "cell_type": "markdown",
      "metadata": {
        "colab_type": "text",
        "id": "QD1zgYJpa91f"
      },
      "source": [
        "### Part (d) [4 pt]\n",
        "\n",
        "Do you think detecting spam is an easy or difficult task?\n",
        "\n",
        "Since machine learning models are expensive to train and deploy, it is very\n",
        "important to compare our models against baseline models: a simple\n",
        "model that is easy to build and inexpensive to run that we can compare our\n",
        "recurrent neural network model against.\n",
        "\n",
        "Explain how you might build a simple baseline model. This baseline model\n",
        "can be a simple neural network (with very few weights), a hand-written algorithm,\n",
        "or any other strategy that is easy to build and test.\n",
        "\n",
        "**Do not actually build a baseline model. Instead, provide instructions on\n",
        "how to build it.**"
      ]
    },
    {
      "cell_type": "markdown",
      "metadata": {
        "id": "VqB3-dZlDeU5",
        "colab_type": "text"
      },
      "source": [
        "We can try using word-based filters.\n",
        "\n",
        "From a dataset of only spam messages, generate a list of the most frequent words in the messages (with some exceptions for common words such as 'is', 'and' etc).\n",
        "\n",
        "If a new message contains atleast x% of the top y most frequent words (eg, the message contains 30% of the top 50 words in the generated list), then mark the message as spam."
      ]
    }
  ]
}